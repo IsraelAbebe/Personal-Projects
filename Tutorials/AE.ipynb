{
  "nbformat": 4,
  "nbformat_minor": 0,
  "metadata": {
    "colab": {
      "name": "AE.ipynb",
      "provenance": [],
      "authorship_tag": "ABX9TyOXbWR2V4PUr7bhUlZtidnF",
      "include_colab_link": true
    },
    "kernelspec": {
      "name": "python3",
      "display_name": "Python 3"
    },
    "accelerator": "GPU"
  },
  "cells": [
    {
      "cell_type": "markdown",
      "metadata": {
        "id": "view-in-github",
        "colab_type": "text"
      },
      "source": [
        "<a href=\"https://colab.research.google.com/github/IsraelAbebe/Personal-Projects-and-Exercises/blob/master/Tutorials/AE.ipynb\" target=\"_parent\"><img src=\"https://colab.research.google.com/assets/colab-badge.svg\" alt=\"Open In Colab\"/></a>"
      ]
    },
    {
      "cell_type": "code",
      "metadata": {
        "id": "O8n8WO4TjQ1b",
        "colab_type": "code",
        "colab": {}
      },
      "source": [
        "import numpy as np\n",
        "import torch \n",
        "from torchvision import datasets,transforms\n",
        "from torchvision.util import train_l"
      ],
      "execution_count": 0,
      "outputs": []
    },
    {
      "cell_type": "code",
      "metadata": {
        "id": "XIliPFQ2poTn",
        "colab_type": "code",
        "colab": {}
      },
      "source": [
        "transform = transforms.ToTensor()\n",
        "\n",
        "train_data = datasets.MNIST(root='data',transform=transform,download=True,train=True)\n",
        "test_data = datasets.MNIST(root='data',transform=transform,download=True,train=False)\n",
        "\n",
        "train_loader = torch.utils.data.DataLoader(train_data,batch_size=32)\n",
        "test_loader = torch.utils.data.DataLoader(test_data,batch_size=32)"
      ],
      "execution_count": 0,
      "outputs": []
    },
    {
      "cell_type": "code",
      "metadata": {
        "id": "IOOL-EfaqgOt",
        "colab_type": "code",
        "colab": {
          "base_uri": "https://localhost:8080/",
          "height": 282
        },
        "outputId": "701611cf-2b66-4ff2-977d-6ebc67176a18"
      },
      "source": [
        "import matplotlib.pyplot as plt\n",
        "\n",
        "\n",
        "train_iter = iter(train_loader)\n",
        "images,_ = train_iter.next()\n",
        "\n",
        "img = np.squeeze(np.array(images[0]))\n",
        "\n",
        "plt.imshow(img,cmap='gray')"
      ],
      "execution_count": 11,
      "outputs": [
        {
          "output_type": "execute_result",
          "data": {
            "text/plain": [
              "<matplotlib.image.AxesImage at 0x7fd1d13439b0>"
            ]
          },
          "metadata": {
            "tags": []
          },
          "execution_count": 11
        },
        {
          "output_type": "display_data",
          "data": {
            "image/png": "[encoded data removed]",
            "text/plain": [
              "<Figure size 432x288 with 1 Axes>"
            ]
          },
          "metadata": {
            "tags": []
          }
        }
      ]
    },
    {
      "cell_type": "code",
      "metadata": {
        "id": "PfWl9wigsLQ9",
        "colab_type": "code",
        "colab": {}
      },
      "source": [
        "import torch.nn as nn\n",
        "import torch.nn.functional as F"
      ],
      "execution_count": 0,
      "outputs": []
    },
    {
      "cell_type": "code",
      "metadata": {
        "id": "FmQORVdxuTPA",
        "colab_type": "code",
        "colab": {}
      },
      "source": [
        "class LinearModel(nn.Module):\n",
        "    def __init__(self,input_size,hidden_size):\n",
        "        super(LinearModel,self).__init__()\n",
        "        self.conv1 = nn.Conv2D\n",
        "        self.fc1 = nn.Linear(input_size,hidden_size)\n",
        "        self.fcb = nn.Linear(hidden_size,input_size)\n",
        "\n",
        "    def forward(self,x):\n",
        "        x = F.relu(self.fc1(x))\n",
        "        x = F.sigmoid(self.fcb(x)) #sigmoid\n",
        "\n",
        "        return x\n",
        "\n",
        "model = LinearModel(28*28,32)\n",
        "model = model.to(torch.device('cuda'))"
      ],
      "execution_count": 0,
      "outputs": []
    },
    {
      "cell_type": "code",
      "metadata": {
        "id": "pvmGgDJpwEbn",
        "colab_type": "code",
        "colab": {}
      },
      "source": [
        "critertion = nn.MSELoss()\n",
        "optimizer = torch.optim.Adam(model.parameters(),lr=0.001)"
      ],
      "execution_count": 0,
      "outputs": []
    },
    {
      "cell_type": "code",
      "metadata": {
        "id": "88on6exmxPcd",
        "colab_type": "code",
        "colab": {
          "base_uri": "https://localhost:8080/",
          "height": 411
        },
        "outputId": "f76b2b3b-e185-4d2a-82dd-07faf8a368f7"
      },
      "source": [
        "epochs = 20\n",
        "\n",
        "for epoch in range(epochs):\n",
        "    train_loss = 0\n",
        "    for data in train_loader:\n",
        "        images,_ = data\n",
        "        images = images.to(torch.device('cuda'))\n",
        "        images = images.view(-1,28*28)\n",
        "        images.requires_grad_()\n",
        "\n",
        "        optimizer.zero_grad()\n",
        "        output = model(images)\n",
        "        loss = critertion(output,images)\n",
        "\n",
        "        train_loss += loss.item()\n",
        "\n",
        "        loss.backward()\n",
        "        optimizer.step()\n",
        "\n",
        "    print('Epoch: ',epoch,' Loss:',train_loss)\n"
      ],
      "execution_count": 45,
      "outputs": [
        {
          "output_type": "stream",
          "text": [
            "/usr/local/lib/python3.6/dist-packages/torch/nn/functional.py:1351: UserWarning: nn.functional.sigmoid is deprecated. Use torch.sigmoid instead.\n",
            "  warnings.warn(\"nn.functional.sigmoid is deprecated. Use torch.sigmoid instead.\")\n"
          ],
          "name": "stderr"
        },
        {
          "output_type": "stream",
          "text": [
            "Epoch:  0  Loss: 72.61987763084471\n",
            "Epoch:  1  Loss: 36.4939473811537\n",
            "Epoch:  2  Loss: 29.123026811517775\n",
            "Epoch:  3  Loss: 27.136877186596394\n",
            "Epoch:  4  Loss: 26.54905848763883\n",
            "Epoch:  5  Loss: 26.289081594906747\n",
            "Epoch:  6  Loss: 26.12061751447618\n",
            "Epoch:  7  Loss: 26.00212847162038\n",
            "Epoch:  8  Loss: 25.919990576803684\n",
            "Epoch:  9  Loss: 25.850337903946638\n",
            "Epoch:  10  Loss: 25.779733549803495\n",
            "Epoch:  11  Loss: 25.69759841170162\n",
            "Epoch:  12  Loss: 25.641131547279656\n",
            "Epoch:  13  Loss: 25.596635072492063\n",
            "Epoch:  14  Loss: 25.557783188298345\n",
            "Epoch:  15  Loss: 25.52080794516951\n",
            "Epoch:  16  Loss: 25.48614634014666\n",
            "Epoch:  17  Loss: 25.453725470229983\n",
            "Epoch:  18  Loss: 25.422761792317033\n",
            "Epoch:  19  Loss: 25.392737665213645\n"
          ],
          "name": "stdout"
        }
      ]
    },
    {
      "cell_type": "code",
      "metadata": {
        "id": "8netCb0CysPa",
        "colab_type": "code",
        "colab": {
          "base_uri": "https://localhost:8080/",
          "height": 306
        },
        "outputId": "89911edc-5318-43ae-b3b0-9b51ed983e6b"
      },
      "source": [
        "# obtain one batch of test images\n",
        "dataiter = iter(test_loader)\n",
        "images, labels = dataiter.next()\n",
        "\n",
        "images_flatten = images.view(images.size(0), -1)\n",
        "images_flatten = images_flatten.to(torch.device('cuda'))\n",
        "# get sample outputs\n",
        "output = model(images_flatten)\n",
        "# prep images for display\n",
        "images = images.numpy()\n",
        "\n",
        "# output is resized into a batch of images\n",
        "output = output.view(32, 1, 28, 28)\n",
        "# use detach when it's an output that requires_grad\n",
        "output = output.detach().cpu().numpy()\n",
        "\n",
        "# plot the first ten input images and then reconstructed images\n",
        "fig, axes = plt.subplots(nrows=2, ncols=10, sharex=True, sharey=True, figsize=(25,4))\n",
        "\n",
        "# input images on top row, reconstructions on bottom\n",
        "for images, row in zip([images, output], axes):\n",
        "    for img, ax in zip(images, row):\n",
        "        ax.imshow(np.squeeze(img), cmap='gray')\n",
        "        ax.get_xaxis().set_visible(False)\n",
        "        ax.get_yaxis().set_visible(False)"
      ],
      "execution_count": 46,
      "outputs": [
        {
          "output_type": "stream",
          "text": [
            "/usr/local/lib/python3.6/dist-packages/torch/nn/functional.py:1351: UserWarning: nn.functional.sigmoid is deprecated. Use torch.sigmoid instead.\n",
            "  warnings.warn(\"nn.functional.sigmoid is deprecated. Use torch.sigmoid instead.\")\n"
          ],
          "name": "stderr"
        },
        {
          "output_type": "display_data",
          "data": {
            "image/png": "[encoded data removed]",
            "text/plain": [
              "<Figure size 1800x288 with 20 Axes>"
            ]
          },
          "metadata": {
            "tags": []
          }
        }
      ]
    },
    {
      "cell_type": "code",
      "metadata": {
        "id": "Qow4Nk2K31fs",
        "colab_type": "code",
        "colab": {}
      },
      "source": [
        ""
      ],
      "execution_count": 0,
      "outputs": []
    }
  ]
}