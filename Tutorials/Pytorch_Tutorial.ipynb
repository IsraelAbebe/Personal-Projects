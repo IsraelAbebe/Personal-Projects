{
  "nbformat": 4,
  "nbformat_minor": 0,
  "metadata": {
    "colab": {
      "name": "Pytorch Tutorial.ipynb",
      "provenance": [],
      "collapsed_sections": [],
      "include_colab_link": true
    },
    "kernelspec": {
      "name": "python3",
      "display_name": "Python 3"
    },
    "accelerator": "GPU"
  },
  "cells": [
    {
      "cell_type": "markdown",
      "metadata": {
        "id": "view-in-github",
        "colab_type": "text"
      },
      "source": [
        "<a href=\"https://colab.research.google.com/github/IsraelAbebe/Personal-Projects-and-Exercises/blob/master/Tutorials/Pytorch_Tutorial.ipynb\" target=\"_parent\"><img src=\"https://colab.research.google.com/assets/colab-badge.svg\" alt=\"Open In Colab\"/></a>"
      ]
    },
    {
      "cell_type": "markdown",
      "metadata": {
        "id": "RR8LbSoxjarZ",
        "colab_type": "text"
      },
      "source": [
        "# [**The Full Original Tutorial**](https://pytorch.org/tutorials/beginner/deep_learning_60min_blitz.html)\n",
        "What is PyTorch?\n",
        "================\n",
        "\n",
        "It’s a Python-based scientific computing package targeted at two sets of\n",
        "audiences:\n",
        "\n",
        "-  A replacement for NumPy to use the power of GPUs\n",
        "-  a deep learning research platform that provides maximum flexibility\n",
        "   and speed\n",
        "\n",
        "1.Getting Started\n",
        "---------------\n",
        "\n",
        "Tensors\n",
        "^^^^^^^\n",
        "\n",
        "Tensors are similar to NumPy’s ndarrays, with the addition being that\n",
        "Tensors can also be used on a GPU to accelerate computing.\n",
        "\n"
      ]
    },
    {
      "cell_type": "code",
      "metadata": {
        "id": "f1SUhfX2iZvu",
        "colab_type": "code",
        "colab": {}
      },
      "source": [
        "import torch\n",
        "import matplotlib.pyplot as plt\n",
        "import numpy as np"
      ],
      "execution_count": 0,
      "outputs": []
    },
    {
      "cell_type": "code",
      "metadata": {
        "id": "T-d6PCDGjn33",
        "colab_type": "code",
        "outputId": "7ce9f55a-9eb5-4bb4-a49c-ba4b46c13bee",
        "colab": {
          "base_uri": "https://localhost:8080/",
          "height": 52
        }
      },
      "source": [
        "# torch.empty()\n",
        "torch.empty((2,3))"
      ],
      "execution_count": 0,
      "outputs": [
        {
          "output_type": "execute_result",
          "data": {
            "text/plain": [
              "tensor([[1.0418e-36, 0.0000e+00, 0.0000e+00],\n",
              "        [0.0000e+00, 0.0000e+00, 0.0000e+00]])"
            ]
          },
          "metadata": {
            "tags": []
          },
          "execution_count": 3
        }
      ]
    },
    {
      "cell_type": "code",
      "metadata": {
        "id": "-iwzp904lG4Q",
        "colab_type": "code",
        "outputId": "6d2d7613-9eb0-4b04-c562-5cb1eae90600",
        "colab": {
          "base_uri": "https://localhost:8080/",
          "height": 69
        }
      },
      "source": [
        "# torch.rand() \n",
        "torch.rand((3,4))"
      ],
      "execution_count": 0,
      "outputs": [
        {
          "output_type": "execute_result",
          "data": {
            "text/plain": [
              "tensor([[0.8748, 0.3659, 0.6738, 0.2064],\n",
              "        [0.4392, 0.0259, 0.1725, 0.0797],\n",
              "        [0.5208, 0.3706, 0.5188, 0.7093]])"
            ]
          },
          "metadata": {
            "tags": []
          },
          "execution_count": 6
        }
      ]
    },
    {
      "cell_type": "code",
      "metadata": {
        "id": "Ve18uqMElRy6",
        "colab_type": "code",
        "outputId": "377f7e98-0914-49d5-9968-32f152360248",
        "colab": {
          "base_uri": "https://localhost:8080/",
          "height": 52
        }
      },
      "source": [
        "# torch.zeros()\n",
        "a = torch.zeros((2,3))\n",
        "a"
      ],
      "execution_count": 0,
      "outputs": [
        {
          "output_type": "execute_result",
          "data": {
            "text/plain": [
              "tensor([[0., 0., 0.],\n",
              "        [0., 0., 0.]])"
            ]
          },
          "metadata": {
            "tags": []
          },
          "execution_count": 15
        }
      ]
    },
    {
      "cell_type": "code",
      "metadata": {
        "id": "ZEHsJuCzldKF",
        "colab_type": "code",
        "outputId": "76d27832-6a79-4154-c7b1-513939d50a32",
        "colab": {
          "base_uri": "https://localhost:8080/",
          "height": 35
        }
      },
      "source": [
        "# torch.tensor()\n",
        "torch.tensor([1,2,3])"
      ],
      "execution_count": 0,
      "outputs": [
        {
          "output_type": "execute_result",
          "data": {
            "text/plain": [
              "tensor([1, 2, 3])"
            ]
          },
          "metadata": {
            "tags": []
          },
          "execution_count": 10
        }
      ]
    },
    {
      "cell_type": "code",
      "metadata": {
        "id": "CYm7rPENl1T1",
        "colab_type": "code",
        "outputId": "5744cb47-0a02-432d-cce7-f9d17422a1ab",
        "colab": {
          "base_uri": "https://localhost:8080/",
          "height": 166
        }
      },
      "source": [
        "# torch.randn_like()\n",
        "torch.rand_like(torch.tensor([1,2]))"
      ],
      "execution_count": 0,
      "outputs": [
        {
          "output_type": "error",
          "ename": "RuntimeError",
          "evalue": "ignored",
          "traceback": [
            "\u001b[0;31m---------------------------------------------------------------------------\u001b[0m",
            "\u001b[0;31mRuntimeError\u001b[0m                              Traceback (most recent call last)",
            "\u001b[0;32m<ipython-input-16-221e339d5f43>\u001b[0m in \u001b[0;36m<module>\u001b[0;34m()\u001b[0m\n\u001b[0;32m----> 1\u001b[0;31m \u001b[0mtorch\u001b[0m\u001b[0;34m.\u001b[0m\u001b[0mrand_like\u001b[0m\u001b[0;34m(\u001b[0m\u001b[0mtorch\u001b[0m\u001b[0;34m.\u001b[0m\u001b[0mtensor\u001b[0m\u001b[0;34m(\u001b[0m\u001b[0;34m[\u001b[0m\u001b[0;36m1\u001b[0m\u001b[0;34m,\u001b[0m\u001b[0;36m2\u001b[0m\u001b[0;34m]\u001b[0m\u001b[0;34m)\u001b[0m\u001b[0;34m)\u001b[0m\u001b[0;34m\u001b[0m\u001b[0;34m\u001b[0m\u001b[0m\n\u001b[0m",
            "\u001b[0;31mRuntimeError\u001b[0m: _th_uniform_ not supported on CPUType for Long"
          ]
        }
      ]
    },
    {
      "cell_type": "code",
      "metadata": {
        "id": "rIF931adl-Dr",
        "colab_type": "code",
        "outputId": "50c7bb1d-8dfb-4315-c11e-778838f5c9f4",
        "colab": {
          "base_uri": "https://localhost:8080/",
          "height": 35
        }
      },
      "source": [
        "# size()\n",
        "a.size()\n"
      ],
      "execution_count": 0,
      "outputs": [
        {
          "output_type": "execute_result",
          "data": {
            "text/plain": [
              "torch.Size([2, 3])"
            ]
          },
          "metadata": {
            "tags": []
          },
          "execution_count": 20
        }
      ]
    },
    {
      "cell_type": "code",
      "metadata": {
        "id": "KilNAyw2mDWQ",
        "colab_type": "code",
        "outputId": "caec2511-fec5-4eed-fdcc-8659fd278b9d",
        "colab": {
          "base_uri": "https://localhost:8080/",
          "height": 52
        }
      },
      "source": [
        "# torch.add()\n",
        "a = torch.rand(2,3)\n",
        "b= torch.rand(2,3)\n",
        "\n",
        "a+b==torch.add(a,b)"
      ],
      "execution_count": 0,
      "outputs": [
        {
          "output_type": "execute_result",
          "data": {
            "text/plain": [
              "tensor([[True, True, True],\n",
              "        [True, True, True]])"
            ]
          },
          "metadata": {
            "tags": []
          },
          "execution_count": 35
        }
      ]
    },
    {
      "cell_type": "code",
      "metadata": {
        "id": "n5dS3kS8mKkQ",
        "colab_type": "code",
        "outputId": "4d4966b2-5d65-4e0d-8d01-90698ddab31a",
        "colab": {
          "base_uri": "https://localhost:8080/",
          "height": 35
        }
      },
      "source": [
        "# item()\n",
        "torch.rand(1).item()\n"
      ],
      "execution_count": 0,
      "outputs": [
        {
          "output_type": "execute_result",
          "data": {
            "text/plain": [
              "0.6221966743469238"
            ]
          },
          "metadata": {
            "tags": []
          },
          "execution_count": 39
        }
      ]
    },
    {
      "cell_type": "code",
      "metadata": {
        "id": "-7SBM_vUmyzL",
        "colab_type": "code",
        "outputId": "c14af603-a60f-40d5-c7c2-8093bf02e0f4",
        "colab": {
          "base_uri": "https://localhost:8080/",
          "height": 35
        }
      },
      "source": [
        "# a.numpy()\n",
        "# torch.from_numpy()\n",
        "\n",
        "a = np.array([1,2,3])\n",
        "torch.from_numpy(a).numpy()\n"
      ],
      "execution_count": 0,
      "outputs": [
        {
          "output_type": "execute_result",
          "data": {
            "text/plain": [
              "array([1, 2, 3])"
            ]
          },
          "metadata": {
            "tags": []
          },
          "execution_count": 42
        }
      ]
    },
    {
      "cell_type": "code",
      "metadata": {
        "id": "aqqSrEYInEj1",
        "colab_type": "code",
        "outputId": "eb2cd8dc-0e30-4fa5-8b33-95750cb3de63",
        "colab": {
          "base_uri": "https://localhost:8080/",
          "height": 35
        }
      },
      "source": [
        "torch.cuda.is_available()"
      ],
      "execution_count": 0,
      "outputs": [
        {
          "output_type": "execute_result",
          "data": {
            "text/plain": [
              "True"
            ]
          },
          "metadata": {
            "tags": []
          },
          "execution_count": 43
        }
      ]
    },
    {
      "cell_type": "code",
      "metadata": {
        "id": "E13_G9-JmmAE",
        "colab_type": "code",
        "outputId": "19e3e17b-fd2f-4b13-e099-edb16e87a35c",
        "colab": {
          "base_uri": "https://localhost:8080/",
          "height": 52
        }
      },
      "source": [
        "%%time\n",
        "a = torch.rand(1000,1000)\n",
        "y = torch.rand_like(a)\n",
        "for i in range(10):\n",
        "    y = y**y"
      ],
      "execution_count": 0,
      "outputs": [
        {
          "output_type": "stream",
          "text": [
            "CPU times: user 120 ms, sys: 7.28 ms, total: 128 ms\n",
            "Wall time: 143 ms\n"
          ],
          "name": "stdout"
        }
      ]
    },
    {
      "cell_type": "code",
      "metadata": {
        "id": "OHrlTDjfnQSR",
        "colab_type": "code",
        "outputId": "3ada3392-efc6-4ee5-ea07-180fc70cf866",
        "colab": {
          "base_uri": "https://localhost:8080/",
          "height": 52
        }
      },
      "source": [
        "%%time\n",
        "a = torch.rand(1000,1000)\n",
        "y = torch.rand_like(a,device='cuda')\n",
        "for i in range(10):\n",
        "    y = y**y"
      ],
      "execution_count": 0,
      "outputs": [
        {
          "output_type": "stream",
          "text": [
            "CPU times: user 14.1 ms, sys: 0 ns, total: 14.1 ms\n",
            "Wall time: 17 ms\n"
          ],
          "name": "stdout"
        }
      ]
    },
    {
      "cell_type": "markdown",
      "metadata": {
        "id": "9jYBndyynTSz",
        "colab_type": "text"
      },
      "source": [
        "# 2.Autograd: Automatic Differentiation\n",
        "\n",
        "\n",
        "``` code\n",
        "            def gradient(y,y_pred,x):\n",
        "                    return np.dot(x.T,(y_pred-y))\n",
        "\n",
        "```"
      ]
    },
    {
      "cell_type": "code",
      "metadata": {
        "id": "_okhpU_hnimx",
        "colab_type": "code",
        "outputId": "5c12c689-d517-4349-964c-84c68689973d",
        "colab": {
          "base_uri": "https://localhost:8080/",
          "height": 35
        }
      },
      "source": [
        "x = torch.rand(1, requires_grad=True)\n",
        "y = torch.rand(1, requires_grad=True)\n",
        "z= torch.rand(1, requires_grad=True)\n",
        "\n",
        "# print(x.grad,y.grad,z.grad)\n",
        "print(x,y)"
      ],
      "execution_count": 0,
      "outputs": [
        {
          "output_type": "stream",
          "text": [
            "tensor([0.9855], requires_grad=True) tensor([0.7617], requires_grad=True)\n"
          ],
          "name": "stdout"
        }
      ]
    },
    {
      "cell_type": "code",
      "metadata": {
        "id": "OOjICfBPq5R5",
        "colab_type": "code",
        "outputId": "5a2a91be-4b37-43e7-97ae-2498fb70ed24",
        "colab": {
          "base_uri": "https://localhost:8080/",
          "height": 35
        }
      },
      "source": [
        "one = x * y\n",
        "two = one + z\n",
        "three = torch.sigmoid(two)\n",
        "\n",
        "print(three)"
      ],
      "execution_count": 0,
      "outputs": [
        {
          "output_type": "stream",
          "text": [
            "tensor([0.6800], grad_fn=<SigmoidBackward>)\n"
          ],
          "name": "stdout"
        }
      ]
    },
    {
      "cell_type": "code",
      "metadata": {
        "id": "-NkfalJXrMpU",
        "colab_type": "code",
        "outputId": "7307ac37-6358-47f2-d91d-07c81327f10c",
        "colab": {
          "base_uri": "https://localhost:8080/",
          "height": 35
        }
      },
      "source": [
        "three.backward()\n",
        "\n",
        "print(x.grad,y.grad,z.grad)"
      ],
      "execution_count": 0,
      "outputs": [
        {
          "output_type": "stream",
          "text": [
            "tensor([0.1658]) tensor([0.2145]) tensor([0.2176])\n"
          ],
          "name": "stdout"
        }
      ]
    },
    {
      "cell_type": "code",
      "metadata": {
        "id": "Zvw9F6e7rRl8",
        "colab_type": "code",
        "colab": {}
      },
      "source": [
        "\n"
      ],
      "execution_count": 0,
      "outputs": []
    },
    {
      "cell_type": "markdown",
      "metadata": {
        "id": "_-5kJxXmuJ2l",
        "colab_type": "text"
      },
      "source": [
        "# CNN"
      ]
    },
    {
      "cell_type": "code",
      "metadata": {
        "id": "j7kF3eo80iKG",
        "colab_type": "code",
        "colab": {}
      },
      "source": [
        "def get_shape(h,p=0,k=3,s=1):\n",
        "    return ((h+(2*p)-k)/s)+1"
      ],
      "execution_count": 0,
      "outputs": []
    },
    {
      "cell_type": "code",
      "metadata": {
        "id": "5GnRmmE102Tq",
        "colab_type": "code",
        "outputId": "ef2a4f99-29df-4bd3-9cb8-3f75ef1a58fe",
        "colab": {
          "base_uri": "https://localhost:8080/",
          "height": 35
        }
      },
      "source": [
        "get_shape(15,k=3)//2"
      ],
      "execution_count": 0,
      "outputs": [
        {
          "output_type": "execute_result",
          "data": {
            "text/plain": [
              "6.0"
            ]
          },
          "metadata": {
            "tags": []
          },
          "execution_count": 68
        }
      ]
    },
    {
      "cell_type": "code",
      "metadata": {
        "id": "nitsXv9Yvex_",
        "colab_type": "code",
        "colab": {}
      },
      "source": [
        "import torch\n",
        "import torch.nn as nn\n",
        "import torch.nn.functional as F"
      ],
      "execution_count": 0,
      "outputs": []
    },
    {
      "cell_type": "code",
      "metadata": {
        "id": "m4z3zoRDvkXs",
        "colab_type": "code",
        "colab": {}
      },
      "source": [
        "class Classification(nn.Module):\n",
        "    def __init__(self):\n",
        "        super(Classification,self).__init__()\n",
        "        self.conv1 = nn.Conv2d(in_channels=3,out_channels=64,kernel_size=3)\n",
        "        self.conv2 = nn.Conv2d(in_channels=64,out_channels=128,kernel_size=3)\n",
        "        self.fc1 = nn.Linear(in_features=6*6*128,out_features=120)\n",
        "        self.fc2 = nn.Linear(in_features=120,out_features=10)\n",
        "        \n",
        "\n",
        "\n",
        "    def forward(self,x):\n",
        "        x = F.max_pool2d(F.relu(self.conv1(x)),2)\n",
        "        x = F.max_pool2d(F.relu(self.conv2(x)),2)\n",
        "\n",
        "        x = x.view(-1,6*6*128)\n",
        "\n",
        "        x = F.relu(self.fc1(x))\n",
        "        x = self.fc2(x)\n",
        "\n",
        "        return x\n",
        "\n",
        "    def num_flat_features(self,x):\n",
        "        size = x.size()[1:]\n",
        "        num_features = 1\n",
        "        for s in size:\n",
        "            num_features *= s\n",
        "        \n",
        "        return num_features\n",
        "\n"
      ],
      "execution_count": 0,
      "outputs": []
    },
    {
      "cell_type": "code",
      "metadata": {
        "id": "-znffyVjzI6I",
        "colab_type": "code",
        "outputId": "9757998e-4890-4c1e-e008-12617eb13514",
        "colab": {
          "base_uri": "https://localhost:8080/",
          "height": 121
        }
      },
      "source": [
        "net =  Classification()\n",
        "print(net)"
      ],
      "execution_count": 0,
      "outputs": [
        {
          "output_type": "stream",
          "text": [
            "Classification(\n",
            "  (conv1): Conv2d(3, 64, kernel_size=(3, 3), stride=(1, 1))\n",
            "  (conv2): Conv2d(64, 128, kernel_size=(3, 3), stride=(1, 1))\n",
            "  (fc1): Linear(in_features=4608, out_features=120, bias=True)\n",
            "  (fc2): Linear(in_features=120, out_features=10, bias=True)\n",
            ")\n"
          ],
          "name": "stdout"
        }
      ]
    },
    {
      "cell_type": "code",
      "metadata": {
        "id": "-vceOKjQzZRe",
        "colab_type": "code",
        "colab": {}
      },
      "source": [
        "# from torchsummary import summary\n",
        "# summary(net.to('cpu'), (3, 224, 224))"
      ],
      "execution_count": 0,
      "outputs": []
    },
    {
      "cell_type": "code",
      "metadata": {
        "id": "wLZU8a02zvT_",
        "colab_type": "code",
        "outputId": "88e70abc-846d-4032-aae2-2e2046cb6e6a",
        "colab": {
          "base_uri": "https://localhost:8080/",
          "height": 35
        }
      },
      "source": [
        "param = list(net.parameters())\n",
        "param[0][0][0].size()"
      ],
      "execution_count": 0,
      "outputs": [
        {
          "output_type": "execute_result",
          "data": {
            "text/plain": [
              "torch.Size([3, 3])"
            ]
          },
          "metadata": {
            "tags": []
          },
          "execution_count": 74
        }
      ]
    },
    {
      "cell_type": "code",
      "metadata": {
        "id": "_r_2JbvI19G6",
        "colab_type": "code",
        "outputId": "eda5c92b-aff5-44b7-919b-5a9bc07813b6",
        "colab": {
          "base_uri": "https://localhost:8080/",
          "height": 287
        }
      },
      "source": [
        "filter_0 = param[0][0][0].detach().numpy()\n",
        "plt.imshow(filter_0)"
      ],
      "execution_count": 0,
      "outputs": [
        {
          "output_type": "execute_result",
          "data": {
            "text/plain": [
              "<matplotlib.image.AxesImage at 0x7fe2c3e19eb8>"
            ]
          },
          "metadata": {
            "tags": []
          },
          "execution_count": 75
        },
        {
          "output_type": "display_data",
          "data": {
            "image/png": "[encoded data removed]",
            "text/plain": [
              "<Figure size 432x288 with 1 Axes>"
            ]
          },
          "metadata": {
            "tags": []
          }
        }
      ]
    },
    {
      "cell_type": "code",
      "metadata": {
        "id": "wkYDp7dt229v",
        "colab_type": "code",
        "outputId": "b1e187b5-6ff8-40fb-e3a9-3021e7743121",
        "colab": {
          "base_uri": "https://localhost:8080/",
          "height": 35
        }
      },
      "source": [
        "input = torch.randn(1, 3, 32, 32)\n",
        "out = net(input)\n",
        "print(out.size())"
      ],
      "execution_count": 0,
      "outputs": [
        {
          "output_type": "stream",
          "text": [
            "torch.Size([1, 10])\n"
          ],
          "name": "stdout"
        }
      ]
    },
    {
      "cell_type": "code",
      "metadata": {
        "id": "WNXXc94F33-B",
        "colab_type": "code",
        "colab": {}
      },
      "source": [
        "# Zero the gradient buffers of all parameters and backprops with random gradients:\n",
        "\n",
        "net.zero_grad()\n",
        "out.backward(torch.randn(1, 10))"
      ],
      "execution_count": 0,
      "outputs": []
    },
    {
      "cell_type": "code",
      "metadata": {
        "id": "T_WYst4Y4-av",
        "colab_type": "code",
        "outputId": "4f0db683-f056-4e47-ebf5-ed511fe0d99e",
        "colab": {
          "base_uri": "https://localhost:8080/",
          "height": 35
        }
      },
      "source": [
        "# Loss Function\n",
        "output = net(input)\n",
        "target = torch.randn(10)  \n",
        "target = target.view(1, -1) \n",
        "\n",
        "criterion = nn.MSELoss()\n",
        "\n",
        "loss = criterion(output, target)\n",
        "print(loss)"
      ],
      "execution_count": 0,
      "outputs": [
        {
          "output_type": "stream",
          "text": [
            "tensor(1.1329, grad_fn=<MseLossBackward>)\n"
          ],
          "name": "stdout"
        }
      ]
    },
    {
      "cell_type": "code",
      "metadata": {
        "id": "lklYNd4354vr",
        "colab_type": "code",
        "colab": {}
      },
      "source": [
        "loss.backward()\n",
        "# net.conv1.weight.grad"
      ],
      "execution_count": 0,
      "outputs": []
    },
    {
      "cell_type": "code",
      "metadata": {
        "id": "mCKOwMQj6RxO",
        "colab_type": "code",
        "outputId": "1ee75922-e59d-4c5d-d64c-a51b35cb23df",
        "colab": {
          "base_uri": "https://localhost:8080/",
          "height": 364
        }
      },
      "source": [
        "import torch.optim as optim\n",
        "\n",
        "input = torch.randn(1, 3, 32, 32)\n",
        "# out = net(input)\n",
        "# print(out)\n",
        "\n",
        "optimizer = optim.SGD(net.parameters(), lr=0.01)\n",
        "\n",
        "optimizer.zero_grad() \n",
        "print(net.conv1.bias)  \n",
        "output = net(input)\n",
        "loss = criterion(output, target)\n",
        "loss.backward()\n",
        "optimizer.step() \n",
        "print(net.conv1.bias) "
      ],
      "execution_count": 0,
      "outputs": [
        {
          "output_type": "stream",
          "text": [
            "Parameter containing:\n",
            "tensor([ 0.0319, -0.1847,  0.1321,  0.1601,  0.1747, -0.0614,  0.0558,  0.1318,\n",
            "         0.1723, -0.0321, -0.0840, -0.0128, -0.0229, -0.1832,  0.0536, -0.0051,\n",
            "        -0.0789,  0.0203,  0.0367, -0.0668, -0.1136, -0.0248,  0.0272,  0.0412,\n",
            "         0.1873,  0.0217, -0.1794,  0.1771,  0.0285,  0.0814, -0.0187, -0.0419,\n",
            "         0.1321, -0.0024,  0.1711, -0.0584,  0.0303, -0.1276,  0.0009, -0.1293,\n",
            "        -0.1568,  0.1216, -0.1522,  0.1552,  0.1804,  0.0960,  0.0169,  0.1735,\n",
            "         0.1071, -0.1186,  0.0078,  0.0920,  0.1814,  0.0403,  0.0856,  0.1532,\n",
            "        -0.1165, -0.0417,  0.0517, -0.0437,  0.0653, -0.0970,  0.0696,  0.1524],\n",
            "       requires_grad=True)\n",
            "Parameter containing:\n",
            "tensor([ 0.0319, -0.1846,  0.1321,  0.1602,  0.1748, -0.0615,  0.0557,  0.1319,\n",
            "         0.1723, -0.0320, -0.0839, -0.0129, -0.0229, -0.1832,  0.0537, -0.0051,\n",
            "        -0.0789,  0.0203,  0.0367, -0.0669, -0.1136, -0.0249,  0.0270,  0.0412,\n",
            "         0.1872,  0.0217, -0.1793,  0.1772,  0.0286,  0.0813, -0.0188, -0.0418,\n",
            "         0.1321, -0.0024,  0.1711, -0.0583,  0.0303, -0.1276,  0.0009, -0.1293,\n",
            "        -0.1568,  0.1216, -0.1522,  0.1553,  0.1805,  0.0961,  0.0169,  0.1735,\n",
            "         0.1072, -0.1185,  0.0076,  0.0921,  0.1815,  0.0403,  0.0856,  0.1531,\n",
            "        -0.1165, -0.0418,  0.0517, -0.0435,  0.0653, -0.0970,  0.0695,  0.1522],\n",
            "       requires_grad=True)\n"
          ],
          "name": "stdout"
        }
      ]
    },
    {
      "cell_type": "code",
      "metadata": {
        "id": "Rp_pLohn7B7Y",
        "colab_type": "code",
        "colab": {}
      },
      "source": [
        ""
      ],
      "execution_count": 0,
      "outputs": []
    },
    {
      "cell_type": "code",
      "metadata": {
        "id": "B9QraKey7cJ9",
        "colab_type": "code",
        "colab": {}
      },
      "source": [
        ""
      ],
      "execution_count": 0,
      "outputs": []
    },
    {
      "cell_type": "markdown",
      "metadata": {
        "id": "Zi_EJ0Ag7cr9",
        "colab_type": "text"
      },
      "source": [
        "# TRAINING A CLASSIFIER \n",
        "\n",
        "[Cifar Data](https://www.cs.toronto.edu/~kriz/cifar.html)"
      ]
    },
    {
      "cell_type": "code",
      "metadata": {
        "id": "Cj0MQ6d27g21",
        "colab_type": "code",
        "colab": {}
      },
      "source": [
        "import torch\n",
        "import torchvision\n",
        "import torchvision.transforms as transforms"
      ],
      "execution_count": 0,
      "outputs": []
    },
    {
      "cell_type": "markdown",
      "metadata": {
        "id": "oj-7E2yykl1r",
        "colab_type": "text"
      },
      "source": [
        "https://pytorch.org/docs/stable/torchvision/transforms.html"
      ]
    },
    {
      "cell_type": "code",
      "metadata": {
        "id": "hgSPf1D071FF",
        "colab_type": "code",
        "colab": {}
      },
      "source": [
        "transform = transforms.Compose([transforms.ToTensor(),\n",
        "                                transforms.Normalize((0.5, 0.5, 0.5), (0.5, 0.5, 0.5))])"
      ],
      "execution_count": 0,
      "outputs": []
    },
    {
      "cell_type": "markdown",
      "metadata": {
        "id": "4gMR8KnikpF0",
        "colab_type": "text"
      },
      "source": [
        ""
      ]
    },
    {
      "cell_type": "code",
      "metadata": {
        "id": "CzPRhjyFfMgI",
        "colab_type": "code",
        "outputId": "1f0c6773-a7c5-4a02-9eef-0f6ab2404773",
        "colab": {
          "base_uri": "https://localhost:8080/",
          "height": 51
        }
      },
      "source": [
        "\n",
        "trainset = torchvision.datasets.CIFAR10(root='./data', train=True,\n",
        "                                        download=True, transform=transform)\n",
        "\n",
        "\n",
        "testset = torchvision.datasets.CIFAR10(root='./data', train=False,\n",
        "                                       download=True, transform=transform)"
      ],
      "execution_count": 0,
      "outputs": [
        {
          "output_type": "stream",
          "text": [
            "Files already downloaded and verified\n",
            "Files already downloaded and verified\n"
          ],
          "name": "stdout"
        }
      ]
    },
    {
      "cell_type": "markdown",
      "metadata": {
        "id": "6yYdqYGVk5ah",
        "colab_type": "text"
      },
      "source": [
        "```\n",
        "\n",
        "        data_path = 'data/train/'\n",
        "        train_dataset = torchvision.datasets.ImageFolder(\n",
        "            root=data_path,\n",
        "            transform=transform\n",
        "        )\n",
        "```"
      ]
    },
    {
      "cell_type": "code",
      "metadata": {
        "id": "DcVNdwIPfSIp",
        "colab_type": "code",
        "colab": {}
      },
      "source": [
        "trainloader = torch.utils.data.DataLoader(trainset, batch_size=64,\n",
        "                                          shuffle=True, num_workers=4)\n",
        "testloader = torch.utils.data.DataLoader(testset, batch_size=64,\n",
        "                                         shuffle=False, num_workers=4)\n",
        "\n",
        "classes = ('plane', 'car', 'bird', 'cat',\n",
        "           'deer', 'dog', 'frog', 'horse', 'ship', 'truck')"
      ],
      "execution_count": 0,
      "outputs": []
    },
    {
      "cell_type": "code",
      "metadata": {
        "id": "5llRukjVfWro",
        "colab_type": "code",
        "outputId": "ebe142f7-4cb2-4cc3-8ef0-a37ca193b3ec",
        "colab": {
          "base_uri": "https://localhost:8080/",
          "height": 286
        }
      },
      "source": [
        "import matplotlib.pyplot as plt\n",
        "import numpy as np\n",
        "\n",
        "# functions to show an image\n",
        "\n",
        "\n",
        "def imshow(img):\n",
        "    img = img / 2 + 0.5     # unnormalize\n",
        "    npimg = img.numpy()\n",
        "    plt.imshow(np.transpose(npimg, (1, 2, 0)))\n",
        "    plt.show()\n",
        "\n",
        "\n",
        "# get some random training images\n",
        "dataiter = iter(trainloader)\n",
        "images, labels = dataiter.next()\n",
        "\n",
        "# show images\n",
        "imshow(torchvision.utils.make_grid(images))\n",
        "# print labels\n",
        "print(' '.join('%5s' % classes[labels[j]] for j in range(4)))"
      ],
      "execution_count": 0,
      "outputs": [
        {
          "output_type": "display_data",
          "data": {
            "image/png": "[encoded data removed]",
            "text/plain": [
              "<Figure size 432x288 with 1 Axes>"
            ]
          },
          "metadata": {
            "tags": []
          }
        },
        {
          "output_type": "stream",
          "text": [
            " deer  ship  ship  ship\n"
          ],
          "name": "stdout"
        }
      ]
    },
    {
      "cell_type": "code",
      "metadata": {
        "id": "_3afj_-pfgga",
        "colab_type": "code",
        "colab": {}
      },
      "source": [
        "net =  Classification()\n",
        "net = net"
      ],
      "execution_count": 0,
      "outputs": []
    },
    {
      "cell_type": "code",
      "metadata": {
        "id": "6VgANcN4fx1N",
        "colab_type": "code",
        "colab": {}
      },
      "source": [
        "criterion = nn.CrossEntropyLoss()\n",
        "optimizer = optim.SGD(net.parameters(), lr=0.001, momentum=0.9)"
      ],
      "execution_count": 0,
      "outputs": []
    },
    {
      "cell_type": "code",
      "metadata": {
        "id": "ChqXvQXSfy3N",
        "colab_type": "code",
        "outputId": "3722a12f-1e59-4c11-a736-917daab7299a",
        "colab": {
          "base_uri": "https://localhost:8080/",
          "height": 34
        }
      },
      "source": [
        "for epoch in range(2):  # loop over the dataset multiple times\n",
        "\n",
        "    running_loss = 0.0\n",
        "    for i, data in enumerate(trainloader, 0):\n",
        "        # get the inputs; data is a list of [inputs, labels]\n",
        "        inputs, labels = data\n",
        "\n",
        "        # zero the parameter gradients\n",
        "        optimizer.zero_grad()\n",
        "\n",
        "        # forward + backward + optimize\n",
        "        outputs = net(inputs)\n",
        "        loss = criterion(outputs, labels)\n",
        "        loss.backward()\n",
        "        optimizer.step()\n",
        "\n",
        "        # print statistics\n",
        "        running_loss += loss.item()\n",
        "        if i % 2000 == 1999:    # print every 2000 mini-batches\n",
        "            print('[%d, %5d] loss: %.3f' %\n",
        "                  (epoch + 1, i + 1, running_loss / 2000))\n",
        "            running_loss = 0.0\n",
        "\n",
        "print('Finished Training')"
      ],
      "execution_count": 0,
      "outputs": [
        {
          "output_type": "stream",
          "text": [
            "Finished Training\n"
          ],
          "name": "stdout"
        }
      ]
    },
    {
      "cell_type": "code",
      "metadata": {
        "id": "tMkndEa8f23h",
        "colab_type": "code",
        "colab": {}
      },
      "source": [
        "PATH = './data/cifar_net.pth'\n",
        "torch.save(net.state_dict(), PATH)"
      ],
      "execution_count": 0,
      "outputs": []
    },
    {
      "cell_type": "code",
      "metadata": {
        "id": "thH6vIkpiTaO",
        "colab_type": "code",
        "outputId": "4e196c3f-83ff-40d5-c8b0-4e5b53412256",
        "colab": {
          "base_uri": "https://localhost:8080/",
          "height": 34
        }
      },
      "source": [
        "ls "
      ],
      "execution_count": 0,
      "outputs": [
        {
          "output_type": "stream",
          "text": [
            "\u001b[0m\u001b[01;34mdata\u001b[0m/  \u001b[01;34msample_data\u001b[0m/\n"
          ],
          "name": "stdout"
        }
      ]
    },
    {
      "cell_type": "code",
      "metadata": {
        "id": "NlCce_sxie4c",
        "colab_type": "code",
        "outputId": "348907f4-b713-4674-9844-0888ccd30ca4",
        "colab": {
          "base_uri": "https://localhost:8080/",
          "height": 155
        }
      },
      "source": [
        "dataiter = iter(testloader)\n",
        "images, labels = dataiter.next()\n",
        "\n",
        "# print images\n",
        "imshow(torchvision.utils.make_grid(images))\n",
        "print('GroundTruth: ', ' '.join('%5s' % classes[labels[j]] for j in range(4)))"
      ],
      "execution_count": 0,
      "outputs": [
        {
          "output_type": "display_data",
          "data": {
            "image/png": "[encoded data removed]",
            "text/plain": [
              "<Figure size 432x288 with 1 Axes>"
            ]
          },
          "metadata": {
            "tags": []
          }
        },
        {
          "output_type": "stream",
          "text": [
            "GroundTruth:    cat  ship  ship plane\n"
          ],
          "name": "stdout"
        }
      ]
    },
    {
      "cell_type": "code",
      "metadata": {
        "id": "nB5iQuhZi7Tp",
        "colab_type": "code",
        "outputId": "1446e81d-f4d7-448d-b9fc-1fa19f100b0f",
        "colab": {
          "base_uri": "https://localhost:8080/",
          "height": 34
        }
      },
      "source": [
        "net = Classification()\n",
        "net.load_state_dict(torch.load('./data/cifar_net.pth'))"
      ],
      "execution_count": 0,
      "outputs": [
        {
          "output_type": "execute_result",
          "data": {
            "text/plain": [
              "<All keys matched successfully>"
            ]
          },
          "metadata": {
            "tags": []
          },
          "execution_count": 154
        }
      ]
    },
    {
      "cell_type": "code",
      "metadata": {
        "id": "8svKUWlGjJFL",
        "colab_type": "code",
        "colab": {}
      },
      "source": [
        "outputs = net(images)"
      ],
      "execution_count": 0,
      "outputs": []
    },
    {
      "cell_type": "code",
      "metadata": {
        "id": "OUYXVl6JjPz8",
        "colab_type": "code",
        "outputId": "9966c403-d7bd-4705-82b6-de5c8eaec191",
        "colab": {
          "base_uri": "https://localhost:8080/",
          "height": 34
        }
      },
      "source": [
        "_, predicted = torch.max(outputs, 1)\n",
        "\n",
        "print('Predicted: ', ' '.join('%5s' % classes[predicted[j]]\n",
        "                              for j in range(4)))"
      ],
      "execution_count": 0,
      "outputs": [
        {
          "output_type": "stream",
          "text": [
            "Predicted:    cat   car   car plane\n"
          ],
          "name": "stdout"
        }
      ]
    },
    {
      "cell_type": "code",
      "metadata": {
        "id": "Me0OSEy-jS8a",
        "colab_type": "code",
        "outputId": "afb3ff8c-f326-44fc-a4bf-6985377cabe8",
        "colab": {
          "base_uri": "https://localhost:8080/",
          "height": 34
        }
      },
      "source": [
        "correct = 0\n",
        "total = 0\n",
        "with torch.no_grad():\n",
        "    for data in testloader:\n",
        "        images, labels = data\n",
        "        outputs = net(images)\n",
        "        _, predicted = torch.max(outputs.data, 1)\n",
        "        total += labels.size(0)\n",
        "        correct += (predicted == labels).sum().item()\n",
        "\n",
        "print('Accuracy of the network on the 10000 test images: %d %%' % (\n",
        "    100 * correct / total))"
      ],
      "execution_count": 0,
      "outputs": [
        {
          "output_type": "stream",
          "text": [
            "Accuracy of the network on the 10000 test images: 52 %\n"
          ],
          "name": "stdout"
        }
      ]
    },
    {
      "cell_type": "code",
      "metadata": {
        "id": "SDggmQCRjZ8O",
        "colab_type": "code",
        "outputId": "6b2a395a-a618-4ec6-8a4b-931fd08e8dd6",
        "colab": {
          "base_uri": "https://localhost:8080/",
          "height": 187
        }
      },
      "source": [
        "class_correct = list(0. for i in range(10))\n",
        "class_total = list(0. for i in range(10))\n",
        "with torch.no_grad():\n",
        "    for data in testloader:\n",
        "        images, labels = data\n",
        "        outputs = net(images)\n",
        "        _, predicted = torch.max(outputs, 1)\n",
        "        c = (predicted == labels).squeeze()\n",
        "        for i in range(4):\n",
        "            label = labels[i]\n",
        "            class_correct[label] += c[i].item()\n",
        "            class_total[label] += 1\n",
        "\n",
        "\n",
        "for i in range(10):\n",
        "    print('Accuracy of %5s : %2d %%' % (\n",
        "        classes[i], 100 * class_correct[i] / class_total[i]))"
      ],
      "execution_count": 0,
      "outputs": [
        {
          "output_type": "stream",
          "text": [
            "Accuracy of plane : 58 %\n",
            "Accuracy of   car : 51 %\n",
            "Accuracy of  bird : 24 %\n",
            "Accuracy of   cat : 25 %\n",
            "Accuracy of  deer : 62 %\n",
            "Accuracy of   dog : 56 %\n",
            "Accuracy of  frog : 52 %\n",
            "Accuracy of horse : 75 %\n",
            "Accuracy of  ship : 39 %\n",
            "Accuracy of truck : 77 %\n"
          ],
          "name": "stdout"
        }
      ]
    },
    {
      "cell_type": "markdown",
      "metadata": {
        "id": "8_VyHTj3jyFd",
        "colab_type": "text"
      },
      "source": [
        "# **What can we do to improve our network?**"
      ]
    }
  ]
}