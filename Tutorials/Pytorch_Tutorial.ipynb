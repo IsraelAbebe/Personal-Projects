{
  "nbformat": 4,
  "nbformat_minor": 0,
  "metadata": {
    "colab": {
      "name": "Pytorch Tutorial.ipynb",
      "provenance": [],
      "authorship_tag": "ABX9TyNqvn/olkSec+Ze3z5n6RsY",
      "include_colab_link": true
    },
    "kernelspec": {
      "name": "python3",
      "display_name": "Python 3"
    },
    "accelerator": "GPU"
  },
  "cells": [
    {
      "cell_type": "markdown",
      "metadata": {
        "id": "view-in-github",
        "colab_type": "text"
      },
      "source": [
        "<a href=\"https://colab.research.google.com/github/IsraelAbebe/Personal-Projects-and-Exercises/blob/master/Tutorials/Pytorch_Tutorial.ipynb\" target=\"_parent\"><img src=\"https://colab.research.google.com/assets/colab-badge.svg\" alt=\"Open In Colab\"/></a>"
      ]
    },
    {
      "cell_type": "markdown",
      "metadata": {
        "id": "RR8LbSoxjarZ",
        "colab_type": "text"
      },
      "source": [
        "\n",
        "What is PyTorch?\n",
        "================\n",
        "\n",
        "It’s a Python-based scientific computing package targeted at two sets of\n",
        "audiences:\n",
        "\n",
        "-  A replacement for NumPy to use the power of GPUs\n",
        "-  a deep learning research platform that provides maximum flexibility\n",
        "   and speed\n",
        "\n",
        "1.Getting Started\n",
        "---------------\n",
        "\n",
        "Tensors\n",
        "^^^^^^^\n",
        "\n",
        "Tensors are similar to NumPy’s ndarrays, with the addition being that\n",
        "Tensors can also be used on a GPU to accelerate computing.\n",
        "\n"
      ]
    },
    {
      "cell_type": "code",
      "metadata": {
        "id": "f1SUhfX2iZvu",
        "colab_type": "code",
        "colab": {}
      },
      "source": [
        "import torch\n",
        "import matplotlib.pyplot as plt\n",
        "import numpy as np"
      ],
      "execution_count": 0,
      "outputs": []
    },
    {
      "cell_type": "code",
      "metadata": {
        "id": "T-d6PCDGjn33",
        "colab_type": "code",
        "colab": {
          "base_uri": "https://localhost:8080/",
          "height": 51
        },
        "outputId": "a19ff626-bb6e-4cec-f335-680f613ca6fd"
      },
      "source": [
        "# torch.empty()\n",
        "torch.empty(2,3)"
      ],
      "execution_count": 138,
      "outputs": [
        {
          "output_type": "execute_result",
          "data": {
            "text/plain": [
              "tensor([[-2.4318e-17,  0.0000e+00,  4.4842e-44],\n",
              "        [ 0.0000e+00,         nan,  1.6115e-43]])"
            ]
          },
          "metadata": {
            "tags": []
          },
          "execution_count": 138
        }
      ]
    },
    {
      "cell_type": "code",
      "metadata": {
        "id": "-iwzp904lG4Q",
        "colab_type": "code",
        "colab": {
          "base_uri": "https://localhost:8080/",
          "height": 68
        },
        "outputId": "01dfa0a9-85b4-4e2f-e4dd-816664a1aede"
      },
      "source": [
        "# torch.rand() \n",
        "torch.rand(3,3)"
      ],
      "execution_count": 139,
      "outputs": [
        {
          "output_type": "execute_result",
          "data": {
            "text/plain": [
              "tensor([[0.3620, 0.3549, 0.8494],\n",
              "        [0.6823, 0.9043, 0.8429],\n",
              "        [0.1639, 0.0811, 0.6133]])"
            ]
          },
          "metadata": {
            "tags": []
          },
          "execution_count": 139
        }
      ]
    },
    {
      "cell_type": "code",
      "metadata": {
        "id": "Ve18uqMElRy6",
        "colab_type": "code",
        "colab": {}
      },
      "source": [
        "# torch.zeros()"
      ],
      "execution_count": 0,
      "outputs": []
    },
    {
      "cell_type": "code",
      "metadata": {
        "id": "ZEHsJuCzldKF",
        "colab_type": "code",
        "colab": {}
      },
      "source": [
        "# torch.tensor()"
      ],
      "execution_count": 0,
      "outputs": []
    },
    {
      "cell_type": "code",
      "metadata": {
        "id": "CYm7rPENl1T1",
        "colab_type": "code",
        "colab": {}
      },
      "source": [
        "# torch.randn_like()    # override dtype!"
      ],
      "execution_count": 0,
      "outputs": []
    },
    {
      "cell_type": "code",
      "metadata": {
        "id": "rIF931adl-Dr",
        "colab_type": "code",
        "colab": {}
      },
      "source": [
        "# size()"
      ],
      "execution_count": 0,
      "outputs": []
    },
    {
      "cell_type": "code",
      "metadata": {
        "id": "KilNAyw2mDWQ",
        "colab_type": "code",
        "colab": {}
      },
      "source": [
        "# torch.add()"
      ],
      "execution_count": 0,
      "outputs": []
    },
    {
      "cell_type": "code",
      "metadata": {
        "id": "n5dS3kS8mKkQ",
        "colab_type": "code",
        "colab": {}
      },
      "source": [
        "# item()"
      ],
      "execution_count": 0,
      "outputs": []
    },
    {
      "cell_type": "code",
      "metadata": {
        "id": "1TeN7uBVmhwk",
        "colab_type": "code",
        "colab": {}
      },
      "source": [
        "# .item()"
      ],
      "execution_count": 0,
      "outputs": []
    },
    {
      "cell_type": "code",
      "metadata": {
        "id": "-7SBM_vUmyzL",
        "colab_type": "code",
        "colab": {}
      },
      "source": [
        "# a.numpy()\n",
        "# torch.from_numpy()"
      ],
      "execution_count": 0,
      "outputs": []
    },
    {
      "cell_type": "code",
      "metadata": {
        "id": "aqqSrEYInEj1",
        "colab_type": "code",
        "colab": {}
      },
      "source": [
        "# torch.cuda.is_available()"
      ],
      "execution_count": 0,
      "outputs": []
    },
    {
      "cell_type": "code",
      "metadata": {
        "id": "E13_G9-JmmAE",
        "colab_type": "code",
        "colab": {}
      },
      "source": [
        "# if torch.cuda.is_available():\n",
        "#     device = torch.device(\"cuda\")          \n",
        "#     y = torch.ones_like(x, device=device)  \n",
        "#     x = x.to(device)   \n",
        "#     z = x + y\n",
        "#     print(z)\n",
        "#     print(z.to(\"cpu\", torch.double)) "
      ],
      "execution_count": 0,
      "outputs": []
    },
    {
      "cell_type": "code",
      "metadata": {
        "id": "OHrlTDjfnQSR",
        "colab_type": "code",
        "colab": {}
      },
      "source": [
        ""
      ],
      "execution_count": 0,
      "outputs": []
    },
    {
      "cell_type": "markdown",
      "metadata": {
        "id": "9jYBndyynTSz",
        "colab_type": "text"
      },
      "source": [
        "# 2.Autograd: Automatic Differentiation\n",
        "\n",
        "\n",
        "``` code\n",
        "            def gradient(y,y_pred,x):\n",
        "                    return np.dot(x.T,(y_pred-y))\n",
        "\n",
        "```"
      ]
    },
    {
      "cell_type": "code",
      "metadata": {
        "id": "_okhpU_hnimx",
        "colab_type": "code",
        "colab": {
          "base_uri": "https://localhost:8080/",
          "height": 51
        },
        "outputId": "304d7009-e596-493c-ccaa-e8e898d89aed"
      },
      "source": [
        "x = torch.rand(1, requires_grad=True)\n",
        "y = torch.rand(1, requires_grad=True)\n",
        "z= torch.rand(1, requires_grad=True)\n",
        "\n",
        "print(x.grad,y.grad,z.grad)\n",
        "print(x,y)"
      ],
      "execution_count": 164,
      "outputs": [
        {
          "output_type": "stream",
          "text": [
            "None None None\n",
            "tensor([0.4492], requires_grad=True) tensor([0.7218], requires_grad=True)\n"
          ],
          "name": "stdout"
        }
      ]
    },
    {
      "cell_type": "code",
      "metadata": {
        "id": "OOjICfBPq5R5",
        "colab_type": "code",
        "colab": {
          "base_uri": "https://localhost:8080/",
          "height": 34
        },
        "outputId": "f56360b2-b0a2-4883-c89c-2f401d495786"
      },
      "source": [
        "one = x * y\n",
        "two = one + z\n",
        "three = torch.sigmoid(two)\n",
        "\n",
        "print(three)"
      ],
      "execution_count": 165,
      "outputs": [
        {
          "output_type": "stream",
          "text": [
            "tensor([0.6071], grad_fn=<SigmoidBackward>)\n"
          ],
          "name": "stdout"
        }
      ]
    },
    {
      "cell_type": "code",
      "metadata": {
        "id": "-NkfalJXrMpU",
        "colab_type": "code",
        "colab": {
          "base_uri": "https://localhost:8080/",
          "height": 34
        },
        "outputId": "bc87a108-4ee7-41bf-faf0-f9b12ebf1917"
      },
      "source": [
        "three.backward()\n",
        "\n",
        "print(x.grad,y.grad,z.grad)"
      ],
      "execution_count": 166,
      "outputs": [
        {
          "output_type": "stream",
          "text": [
            "tensor([0.1722]) tensor([0.1071]) tensor([0.2385])\n"
          ],
          "name": "stdout"
        }
      ]
    },
    {
      "cell_type": "code",
      "metadata": {
        "id": "Zvw9F6e7rRl8",
        "colab_type": "code",
        "colab": {}
      },
      "source": [
        "\n"
      ],
      "execution_count": 0,
      "outputs": []
    },
    {
      "cell_type": "markdown",
      "metadata": {
        "id": "_-5kJxXmuJ2l",
        "colab_type": "text"
      },
      "source": [
        "# NEURAL NETWORKS"
      ]
    },
    {
      "cell_type": "code",
      "metadata": {
        "id": "j7kF3eo80iKG",
        "colab_type": "code",
        "colab": {}
      },
      "source": [
        "def get_shape(h,p=0,k=3,s=1):\n",
        "    return ((h+(2*p)-k)/s)+1"
      ],
      "execution_count": 0,
      "outputs": []
    },
    {
      "cell_type": "code",
      "metadata": {
        "id": "5GnRmmE102Tq",
        "colab_type": "code",
        "colab": {
          "base_uri": "https://localhost:8080/",
          "height": 34
        },
        "outputId": "65646e22-193b-4ab5-8525-83e2ebd8464d"
      },
      "source": [
        "get_shape(110,k=5)/2"
      ],
      "execution_count": 168,
      "outputs": [
        {
          "output_type": "execute_result",
          "data": {
            "text/plain": [
              "53.0"
            ]
          },
          "metadata": {
            "tags": []
          },
          "execution_count": 168
        }
      ]
    },
    {
      "cell_type": "code",
      "metadata": {
        "id": "nitsXv9Yvex_",
        "colab_type": "code",
        "colab": {}
      },
      "source": [
        "import torch\n",
        "import torch.nn as nn\n",
        "import torch.nn.functional as F"
      ],
      "execution_count": 0,
      "outputs": []
    },
    {
      "cell_type": "code",
      "metadata": {
        "id": "m4z3zoRDvkXs",
        "colab_type": "code",
        "colab": {}
      },
      "source": [
        "class Classification(nn.Module):\n",
        "    def __init__(self):\n",
        "        super(Classification,self).__init__()\n",
        "        self.conv1 = nn.Conv2d(in_channels=3,out_channels=64,kernel_size=5)\n",
        "        self.conv2 = nn.Conv2d(in_channels=64,out_channels=64,kernel_size=5)\n",
        "        \n",
        "        self.fc1 = nn.Linear(in_features=64*53*53,out_features=120)\n",
        "        self.fc2 = nn.Linear(in_features = 120,out_features = 64)\n",
        "        self.fc3 = nn.Linear(in_features = 64,out_features = 10)\n",
        "\n",
        "\n",
        "    def forward(self,x):\n",
        "        x = F.max_pool2d(F.relu(self.conv1(x)),2)\n",
        "        x = F.max_pool2d(F.relu(self.conv2(x)),2)\n",
        "\n",
        "        print(self.num_flat_features(x))\n",
        "        x = x.view(-1,self.num_flat_features(x))\n",
        "\n",
        "        x = F.relu(self.fc1(x))\n",
        "        x = F.relu(self.fc2(x))\n",
        "        x = self.fc3(x)\n",
        "\n",
        "        return x\n",
        "\n",
        "    def num_flat_features(self,x):\n",
        "        size = x.size()[1:]\n",
        "        num_features = 1\n",
        "        for s in size:\n",
        "            num_features *= s\n",
        "        \n",
        "        return num_features\n",
        "\n"
      ],
      "execution_count": 0,
      "outputs": []
    },
    {
      "cell_type": "code",
      "metadata": {
        "id": "-znffyVjzI6I",
        "colab_type": "code",
        "colab": {
          "base_uri": "https://localhost:8080/",
          "height": 136
        },
        "outputId": "a18c34d7-c5eb-4732-8875-34829463df0c"
      },
      "source": [
        "net =  Classification()\n",
        "print(net)"
      ],
      "execution_count": 171,
      "outputs": [
        {
          "output_type": "stream",
          "text": [
            "Classification(\n",
            "  (conv1): Conv2d(3, 64, kernel_size=(5, 5), stride=(1, 1))\n",
            "  (conv2): Conv2d(64, 64, kernel_size=(5, 5), stride=(1, 1))\n",
            "  (fc1): Linear(in_features=179776, out_features=120, bias=True)\n",
            "  (fc2): Linear(in_features=120, out_features=64, bias=True)\n",
            "  (fc3): Linear(in_features=64, out_features=10, bias=True)\n",
            ")\n"
          ],
          "name": "stdout"
        }
      ]
    },
    {
      "cell_type": "code",
      "metadata": {
        "id": "-vceOKjQzZRe",
        "colab_type": "code",
        "colab": {}
      },
      "source": [
        "# from torchsummary import summary\n",
        "# summary(net.to('cpu'), (3, 224, 224))"
      ],
      "execution_count": 0,
      "outputs": []
    },
    {
      "cell_type": "code",
      "metadata": {
        "id": "wLZU8a02zvT_",
        "colab_type": "code",
        "colab": {
          "base_uri": "https://localhost:8080/",
          "height": 34
        },
        "outputId": "763b9ba8-3367-408a-e805-264ccb127e2f"
      },
      "source": [
        "param = list(net.parameters())\n",
        "param[0][0][0].size()"
      ],
      "execution_count": 173,
      "outputs": [
        {
          "output_type": "execute_result",
          "data": {
            "text/plain": [
              "torch.Size([5, 5])"
            ]
          },
          "metadata": {
            "tags": []
          },
          "execution_count": 173
        }
      ]
    },
    {
      "cell_type": "code",
      "metadata": {
        "id": "_r_2JbvI19G6",
        "colab_type": "code",
        "colab": {}
      },
      "source": [
        "# filter_0 = param[0][0][0].detach().numpy()\n",
        "# plt.imshow(filter_0)"
      ],
      "execution_count": 0,
      "outputs": []
    },
    {
      "cell_type": "code",
      "metadata": {
        "id": "wkYDp7dt229v",
        "colab_type": "code",
        "colab": {
          "base_uri": "https://localhost:8080/",
          "height": 68
        },
        "outputId": "4c81db8a-e05a-4b14-8c01-89e3a025d8c0"
      },
      "source": [
        "input = torch.randn(1, 3, 224, 224)\n",
        "out = net(input)\n",
        "print(out)"
      ],
      "execution_count": 194,
      "outputs": [
        {
          "output_type": "stream",
          "text": [
            "179776\n",
            "tensor([[-0.1256, -0.0637, -0.0915, -0.0405, -0.0882,  0.0959, -0.0413,  0.1461,\n",
            "          0.0041, -0.0907]], grad_fn=<AddmmBackward>)\n"
          ],
          "name": "stdout"
        }
      ]
    },
    {
      "cell_type": "code",
      "metadata": {
        "id": "WNXXc94F33-B",
        "colab_type": "code",
        "colab": {}
      },
      "source": [
        "# Zero the gradient buffers of all parameters and backprops with random gradients:\n",
        "\n",
        "net.zero_grad()\n",
        "out.backward(torch.randn(1, 10))"
      ],
      "execution_count": 0,
      "outputs": []
    },
    {
      "cell_type": "code",
      "metadata": {
        "id": "T_WYst4Y4-av",
        "colab_type": "code",
        "colab": {
          "base_uri": "https://localhost:8080/",
          "height": 51
        },
        "outputId": "31c7faf3-ad91-4c4f-b8a1-adbe2c35f28c"
      },
      "source": [
        "# Loss Function\n",
        "output = net(input)\n",
        "target = torch.randn(10)  \n",
        "target = target.view(1, -1) \n",
        "\n",
        "criterion = nn.MSELoss()\n",
        "\n",
        "loss = criterion(output, target)\n",
        "print(loss)"
      ],
      "execution_count": 196,
      "outputs": [
        {
          "output_type": "stream",
          "text": [
            "179776\n",
            "tensor(1.8025, grad_fn=<MseLossBackward>)\n"
          ],
          "name": "stdout"
        }
      ]
    },
    {
      "cell_type": "code",
      "metadata": {
        "id": "lklYNd4354vr",
        "colab_type": "code",
        "colab": {
          "base_uri": "https://localhost:8080/",
          "height": 34
        },
        "outputId": "b94d25bb-a189-4d34-93e9-e35aa41e9ff0"
      },
      "source": [
        "loss.backward()\n",
        "net.conv1.weight.grad"
      ],
      "execution_count": 197,
      "outputs": [
        {
          "output_type": "execute_result",
          "data": {
            "text/plain": [
              "torch.Size([64, 3, 5, 5])"
            ]
          },
          "metadata": {
            "tags": []
          },
          "execution_count": 197
        }
      ]
    },
    {
      "cell_type": "code",
      "metadata": {
        "id": "mCKOwMQj6RxO",
        "colab_type": "code",
        "colab": {
          "base_uri": "https://localhost:8080/",
          "height": 425
        },
        "outputId": "b6631b62-bff2-45e2-85ba-82af45edc485"
      },
      "source": [
        "import torch.optim as optim\n",
        "\n",
        "input = torch.randn(1, 3, 224, 224)\n",
        "out = net(input)\n",
        "print(out)\n",
        "\n",
        "optimizer = optim.SGD(net.parameters(), lr=0.01)\n",
        "\n",
        "optimizer.zero_grad() \n",
        "print(net.conv1.bias)  \n",
        "output = net(input)\n",
        "loss = criterion(output, target)\n",
        "loss.backward()\n",
        "optimizer.step() \n",
        "print(net.conv1.bias) "
      ],
      "execution_count": 199,
      "outputs": [
        {
          "output_type": "stream",
          "text": [
            "179776\n",
            "tensor([[-2.0923,  0.3265,  0.4433,  2.2555, -0.2949,  1.1524,  0.6555,  1.2390,\n",
            "         -0.4443, -1.6031]], grad_fn=<AddmmBackward>)\n",
            "Parameter containing:\n",
            "tensor([-0.0328, -0.0512,  0.0645, -0.0345,  0.0683, -0.0707,  0.0279,  0.0937,\n",
            "        -0.0859, -0.0148, -0.0537,  0.0734,  0.0046, -0.0675, -0.0720, -0.0006,\n",
            "        -0.1146, -0.1059,  0.1154, -0.0699,  0.1061, -0.0968, -0.0180, -0.0569,\n",
            "         0.0477,  0.1135, -0.0295, -0.1017,  0.0095, -0.0252, -0.0478,  0.0445,\n",
            "        -0.0269,  0.0277,  0.0122, -0.0981,  0.0366, -0.0124,  0.0469,  0.0044,\n",
            "        -0.0669, -0.0703, -0.1102, -0.0610, -0.0520, -0.1039,  0.1039,  0.0244,\n",
            "         0.0852,  0.0355,  0.0468, -0.0434, -0.0129,  0.0222, -0.0307,  0.0999,\n",
            "         0.0409,  0.0089, -0.0709,  0.0717, -0.0214,  0.0039,  0.0483, -0.0832],\n",
            "       requires_grad=True)\n",
            "179776\n",
            "Parameter containing:\n",
            "tensor([-0.0329, -0.0513,  0.0643, -0.0345,  0.0680, -0.0707,  0.0279,  0.0939,\n",
            "        -0.0860, -0.0151, -0.0535,  0.0733,  0.0046, -0.0676, -0.0721, -0.0007,\n",
            "        -0.1146, -0.1060,  0.1151, -0.0700,  0.1062, -0.0970, -0.0181, -0.0569,\n",
            "         0.0477,  0.1134, -0.0297, -0.1017,  0.0094, -0.0253, -0.0478,  0.0445,\n",
            "        -0.0271,  0.0278,  0.0122, -0.0982,  0.0365, -0.0125,  0.0467,  0.0043,\n",
            "        -0.0671, -0.0703, -0.1103, -0.0609, -0.0520, -0.1039,  0.1037,  0.0244,\n",
            "         0.0851,  0.0355,  0.0467, -0.0435, -0.0130,  0.0221, -0.0308,  0.0997,\n",
            "         0.0409,  0.0089, -0.0709,  0.0715, -0.0216,  0.0038,  0.0482, -0.0834],\n",
            "       requires_grad=True)\n"
          ],
          "name": "stdout"
        }
      ]
    },
    {
      "cell_type": "code",
      "metadata": {
        "id": "Rp_pLohn7B7Y",
        "colab_type": "code",
        "colab": {}
      },
      "source": [
        ""
      ],
      "execution_count": 0,
      "outputs": []
    },
    {
      "cell_type": "code",
      "metadata": {
        "id": "B9QraKey7cJ9",
        "colab_type": "code",
        "colab": {}
      },
      "source": [
        ""
      ],
      "execution_count": 0,
      "outputs": []
    },
    {
      "cell_type": "markdown",
      "metadata": {
        "id": "Zi_EJ0Ag7cr9",
        "colab_type": "text"
      },
      "source": [
        "# TRAINING A CLASSIFIER \n",
        "\n",
        "[Cifar Data](https://www.cs.toronto.edu/~kriz/cifar.html)"
      ]
    },
    {
      "cell_type": "code",
      "metadata": {
        "id": "Cj0MQ6d27g21",
        "colab_type": "code",
        "colab": {
          "base_uri": "https://localhost:8080/",
          "height": 129
        },
        "outputId": "01d7fdd5-fb3d-4dd6-b110-9752fb7072f5"
      },
      "source": [
        "https://pytorch.org/tutorials/beginner/blitz/cifar10_tutorial.html"
      ],
      "execution_count": 200,
      "outputs": [
        {
          "output_type": "error",
          "ename": "SyntaxError",
          "evalue": "ignored",
          "traceback": [
            "\u001b[0;36m  File \u001b[0;32m\"<ipython-input-200-8e6fd2e189d4>\"\u001b[0;36m, line \u001b[0;32m1\u001b[0m\n\u001b[0;31m    https://pytorch.org/tutorials/beginner/blitz/cifar10_tutorial.html\u001b[0m\n\u001b[0m           ^\u001b[0m\n\u001b[0;31mSyntaxError\u001b[0m\u001b[0;31m:\u001b[0m invalid syntax\n"
          ]
        }
      ]
    },
    {
      "cell_type": "code",
      "metadata": {
        "id": "hgSPf1D071FF",
        "colab_type": "code",
        "colab": {}
      },
      "source": [
        ""
      ],
      "execution_count": 0,
      "outputs": []
    }
  ]
}