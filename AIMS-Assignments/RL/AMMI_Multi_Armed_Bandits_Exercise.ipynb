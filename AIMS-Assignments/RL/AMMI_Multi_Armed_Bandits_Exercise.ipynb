{
  "nbformat": 4,
  "nbformat_minor": 0,
  "metadata": {
    "kernelspec": {
      "display_name": "Python 3",
      "language": "python",
      "name": "python3"
    },
    "language_info": {
      "codemirror_mode": {
        "name": "ipython",
        "version": 3
      },
      "file_extension": ".py",
      "mimetype": "text/x-python",
      "name": "python",
      "nbconvert_exporter": "python",
      "pygments_lexer": "ipython3",
      "version": "3.6.10"
    },
    "colab": {
      "name": "AMMI Multi-Armed Bandits Exercise.ipynb",
      "provenance": [],
      "collapsed_sections": [],
      "include_colab_link": true
    }
  },
  "cells": [
    {
      "cell_type": "markdown",
      "metadata": {
        "id": "view-in-github",
        "colab_type": "text"
      },
      "source": [
        "<a href=\"https://colab.research.google.com/github/IsraelAbebe/Personal-Projects-and-Exercises/blob/master/AIMS-Assignments/RL/AMMI_Multi_Armed_Bandits_Exercise.ipynb\" target=\"_parent\"><img src=\"https://colab.research.google.com/assets/colab-badge.svg\" alt=\"Open In Colab\"/></a>"
      ]
    },
    {
      "cell_type": "code",
      "metadata": {
        "id": "zXdo08xU6aug",
        "colab_type": "code",
        "colab": {}
      },
      "source": [
        "!git clone https://github.com/rlgammazero/mvarl_hands_on.git > /dev/null 2>&1"
      ],
      "execution_count": 0,
      "outputs": []
    },
    {
      "cell_type": "code",
      "metadata": {
        "id": "az8z4Ddp6b5h",
        "colab_type": "code",
        "colab": {}
      },
      "source": [
        "import sys\n",
        "sys.path.insert(0, './mvarl_hands_on/exploration') "
      ],
      "execution_count": 0,
      "outputs": []
    },
    {
      "cell_type": "code",
      "metadata": {
        "id": "QYVut8IE6TCb",
        "colab_type": "code",
        "colab": {}
      },
      "source": [
        "import numpy as np\n",
        "import arms\n",
        "import matplotlib.pyplot as plt"
      ],
      "execution_count": 0,
      "outputs": []
    },
    {
      "cell_type": "markdown",
      "metadata": {
        "id": "Ty2Chp1i6TCk",
        "colab_type": "text"
      },
      "source": [
        "# Multi-Armed Bandits\n",
        "A MAB problem can be interpreted as a Markov Decision Process (MDP) with a single state and multiple actions (i.e., arms). At each round, the learning agent executes an action (i.e., arm) and observes a random realization of the reward associated to the arm. The goal is to find the arm with the highest mean reward"
      ]
    },
    {
      "cell_type": "markdown",
      "metadata": {
        "id": "hdCmDqwB6TCm",
        "colab_type": "text"
      },
      "source": [
        "A MAB problem is defined by $N$ arms. Each arm $i$ has an associated reward distribution $\\Lambda_i$ with mean $\\mu_i$.\n",
        "\n",
        "Let's define our first bandit problem"
      ]
    },
    {
      "cell_type": "code",
      "metadata": {
        "id": "rKZCltls6TCo",
        "colab_type": "code",
        "colab": {}
      },
      "source": [
        "# Build your own bandit problem\n",
        "arm1 = arms.ArmBernoulli(0.30)\n",
        "arm2 = arms.ArmBernoulli(0.45)\n",
        "arm3 = arms.ArmBernoulli(0.15)\n",
        "arm4 = arms.ArmBernoulli(0.10)\n",
        "\n",
        "MAB = [arm1, arm2, arm3, arm4]"
      ],
      "execution_count": 0,
      "outputs": []
    },
    {
      "cell_type": "code",
      "metadata": {
        "id": "ztnvPIdH6jgz",
        "colab_type": "code",
        "colab": {
          "base_uri": "https://localhost:8080/",
          "height": 68
        },
        "outputId": "979d4fe6-0afe-4c6f-8b6b-b50271624e33"
      },
      "source": [
        "arm1.mean,arm1.sample(),[i.sample() for i in MAB]"
      ],
      "execution_count": 75,
      "outputs": [
        {
          "output_type": "execute_result",
          "data": {
            "text/plain": [
              "(0.3,\n",
              " array([False]),\n",
              " [array([False]), array([ True]), array([False]), array([False])])"
            ]
          },
          "metadata": {
            "tags": []
          },
          "execution_count": 75
        }
      ]
    },
    {
      "cell_type": "code",
      "metadata": {
        "id": "U8MyO0lM6TCv",
        "colab_type": "code",
        "outputId": "b5a23bef-b130-4c6f-f845-edbec33350fd",
        "colab": {
          "base_uri": "https://localhost:8080/",
          "height": 51
        }
      },
      "source": [
        "nb_arms = len(MAB)\n",
        "means = [el.mean for el in MAB]\n",
        "\n",
        "# Display the means of your bandit (to find the best)\n",
        "print('means: {}'.format(means))\n",
        "mu_max = np.max(means)\n",
        "print('best arm: {}'.format(mu_max))\n",
        "\n",
        "# Parameters\n",
        "nb_repetitions = 40\n",
        "T = 500"
      ],
      "execution_count": 76,
      "outputs": [
        {
          "output_type": "stream",
          "text": [
            "means: [0.3, 0.45, 0.15, 0.1]\n",
            "best arm: 0.45\n"
          ],
          "name": "stdout"
        }
      ]
    },
    {
      "cell_type": "markdown",
      "metadata": {
        "id": "_o609SHX6TC0",
        "colab_type": "text"
      },
      "source": [
        "# Regret\n",
        "We evaluate exploration-exploitation algorithms based on the expected regret.\n",
        "The **expected regret** measures the difference between executing the optimal arm $a^\\star$ and following the learning agent:\n",
        "$$R(T) = \\mathbb{E}\\Big[\\sum_{t=1}^T \\mu^\\star - r_t \\Big]$$"
      ]
    },
    {
      "cell_type": "markdown",
      "metadata": {
        "id": "VAmsMfSu6TC-",
        "colab_type": "text"
      },
      "source": [
        "Algorithm and environment (MAB problem) are stochastic. We want to have meaningful results, thus we average over multiple runs."
      ]
    },
    {
      "cell_type": "markdown",
      "metadata": {
        "id": "gps2vLrJ6TDG",
        "colab_type": "text"
      },
      "source": [
        "# $\\epsilon$-Greedy\n",
        "This algorithm simply builds an estimate $\\hat{\\mu}_i$ of the mean reward of each arm and at each round it selects the action accorging to the following policy\n",
        "$$a_t = \\begin{cases}\n",
        "\\mathcal{U}(N) & \\text{ with probability }~\\epsilon\\\\\n",
        "\\arg\\max_{i} \\hat{\\mu}_i & \\text{ with probability }~1-\\epsilon\n",
        "\\end{cases}$$"
      ]
    },
    {
      "cell_type": "code",
      "metadata": {
        "id": "p1L10keq6TDH",
        "colab_type": "code",
        "outputId": "f9529aa6-322b-4099-ac19-1f6fb65ec28c",
        "colab": {
          "base_uri": "https://localhost:8080/",
          "height": 282
        }
      },
      "source": [
        "regret = np.zeros((nb_repetitions, T))\n",
        "epsilon = 0.1\n",
        "\n",
        "\n",
        "count = np.zeros(2)\n",
        "for it in range(nb_repetitions):\n",
        "\n",
        "    cumulative_reward = np.zeros((nb_arms,))\n",
        "    N = np.zeros((nb_arms,))\n",
        "    mu_hat = np.zeros((nb_arms,))\n",
        "\n",
        "    for tt in range(T):\n",
        "        #choose an arm\n",
        "        x = np.random.rand()\n",
        "        epsilon = 2/(tt+1)\n",
        "        if x < epsilon:\n",
        "            a = np.random.choice(nb_arms)\n",
        "            count[0] += 1\n",
        "        else:\n",
        "            a = mu_hat.argmax()\n",
        "            count[1] += 1\n",
        "\n",
        "        r = MAB[a].sample()\n",
        "\n",
        "        # update statsics mu_hat\n",
        "        cumulative_reward[a] += r\n",
        "        N[a] += 1\n",
        "        mu_hat[a] = cumulative_reward[a]/N[a]\n",
        "\n",
        "        regret[it,tt] = mu_max - r\n",
        "    # to sample an arm/action:  MAB[arm].sample()\n",
        "    \n",
        "cum_regret = np.cumsum(regret, axis=1)\n",
        "mean_regret = cum_regret.mean(axis=0)\n",
        "std = cum_regret.std(axis=0) / np.sqrt(nb_repetitions)\n",
        "\n",
        "plt.plot(mean_regret, label=\"$\\epsilon$-greedy\")\n",
        "plt.fill_between(np.arange(T), mean_regret + std, mean_regret - std, alpha=0.1)\n",
        "plt.legend()\n",
        "\n",
        "\n",
        "# save current regret\n",
        "regret_EPSGREEDY= mean_regret\n",
        "std_EPSGREEDY= std\n",
        "count"
      ],
      "execution_count": 84,
      "outputs": [
        {
          "output_type": "execute_result",
          "data": {
            "text/plain": [
              "array([  502., 19498.])"
            ]
          },
          "metadata": {
            "tags": []
          },
          "execution_count": 84
        },
        {
          "output_type": "display_data",
          "data": {
            "image/png": "[encoded data removed]",
            "text/plain": [
              "<Figure size 432x288 with 1 Axes>"
            ]
          },
          "metadata": {
            "tags": []
          }
        }
      ]
    },
    {
      "cell_type": "markdown",
      "metadata": {
        "id": "A5YwzXrF6TDL",
        "colab_type": "text"
      },
      "source": [
        "# The UCB1 algorithm\n",
        "\n",
        "The UCB1 algorithm is proposed by [Auer et al](https://homes.di.unimi.it/~cesabian/Pubblicazioni/ml-02.pdf) for bandit instances with bounded rewards (in $[0,1]$ to fix the ideas). One can extend it to depend on some parameter $\\alpha$: \n",
        "\n",
        "$$A_{t} = \\underset{a}{\\text{argmax}} \\left[\\hat{\\mu}_a(t-1) + \\sqrt{\\frac{\\alpha \\log(t)}{N_a(t-1)}}\\right],$$\n",
        "where $\\hat{\\mu}_a(t)$ is the empirical mean of arm $a$ after $t$ rounds and $N_a(t)$ is the number of selections of arm $a$ till that time. \n",
        "\n",
        "UCB1 was originally proposed with $\\alpha = 2$. Its analysis was later refined to allow for $\\alpha > 1/2$ (see [here](http://sbubeck.com/Bubeckthesis.pdf) or [here](https://hal.archives-ouvertes.fr/hal-00738209/file/klucb.pdf)).\n",
        "\n",
        "* Implement UCB($\\alpha$).\n"
      ]
    },
    {
      "cell_type": "code",
      "metadata": {
        "id": "4Z0WtEC56TDN",
        "colab_type": "code",
        "outputId": "b6cae45a-868f-45c8-853a-bab41512245d",
        "colab": {
          "base_uri": "https://localhost:8080/",
          "height": 265
        }
      },
      "source": [
        "regret = np.zeros((nb_repetitions, T))\n",
        "alpha = 0.5\n",
        "\n",
        "\n",
        "count = np.zeros(2)\n",
        "for it in range(nb_repetitions):\n",
        "\n",
        "    cumulative_reward = np.zeros((nb_arms,))\n",
        "    N = np.zeros((nb_arms,))\n",
        "    mu_hat = np.zeros((nb_arms,))\n",
        "\n",
        "    confidence_bound = np.inf*np.ones(nb_arms)\n",
        "\n",
        "    for tt in range(T):\n",
        "        # choose an arm\n",
        "        # we need to compute mu_hat + confidence_bound and take argmax\n",
        "        mu_hat = cumulative_reward/np.maximum(N,1)\n",
        "        a = np.argmax(mu_hat+confidence_bound)\n",
        "\n",
        "        r = MAB[a].sample()\n",
        "\n",
        "        # update statsics mu_hat\n",
        "        cumulative_reward[a] += r\n",
        "        N[a] += 1\n",
        "        mu_hat[a] = cumulative_reward[a]/N[a]\n",
        "\n",
        "        regret[it,tt] = mu_max- r\n",
        "\n",
        "        confidence_bound[a] = np.sqrt(alpha*np.log(tt+1)/N[a])\n",
        "    # to sample an arm/action:  MAB[arm].sample()\n",
        "    \n",
        "cum_regret = np.cumsum(regret, axis=1)\n",
        "mean_regret = cum_regret.mean(axis=0)\n",
        "std = cum_regret.std(axis=0) / np.sqrt(nb_repetitions)\n",
        "\n",
        "plt.plot(mean_regret, label=\"UCB\")\n",
        "plt.fill_between(np.arange(T), mean_regret + std, mean_regret - std, alpha=0.1)\n",
        "plt.legend()\n",
        "\n",
        "\n",
        "# save current regret\n",
        "regret_UCB = mean_regret\n",
        "std_UCB= std"
      ],
      "execution_count": 87,
      "outputs": [
        {
          "output_type": "display_data",
          "data": {
            "image/png": "[encoded data removed]",
            "text/plain": [
              "<Figure size 432x288 with 1 Axes>"
            ]
          },
          "metadata": {
            "tags": []
          }
        }
      ]
    },
    {
      "cell_type": "markdown",
      "metadata": {
        "id": "LIebjN5V6TDS",
        "colab_type": "text"
      },
      "source": [
        "Plot all the algorithms"
      ]
    },
    {
      "cell_type": "code",
      "metadata": {
        "id": "S2kIK6TS6TDU",
        "colab_type": "code",
        "outputId": "7d9caf88-e872-4609-92b6-05f55d5895ae",
        "colab": {
          "base_uri": "https://localhost:8080/",
          "height": 500
        }
      },
      "source": [
        "plt.figure(figsize=(10,8))\n",
        "plt.plot(regret_EPSGREEDY, label=\"$\\epsilon$-greedy\")\n",
        "plt.fill_between(np.arange(T), regret_EPSGREEDY + std_EPSGREEDY, regret_EPSGREEDY - std_EPSGREEDY, alpha=0.1)\n",
        "plt.plot(regret_UCB, label=\"UCB\")\n",
        "plt.fill_between(np.arange(T), regret_UCB + std_UCB, regret_UCB - std_UCB, alpha=0.1)\n",
        "plt.legend()"
      ],
      "execution_count": 88,
      "outputs": [
        {
          "output_type": "execute_result",
          "data": {
            "text/plain": [
              "<matplotlib.legend.Legend at 0x7fa048381cc0>"
            ]
          },
          "metadata": {
            "tags": []
          },
          "execution_count": 88
        },
        {
          "output_type": "display_data",
          "data": {
            "image/png": "[encoded data removed]",
            "text/plain": [
              "<Figure size 720x576 with 1 Axes>"
            ]
          },
          "metadata": {
            "tags": []
          }
        }
      ]
    },
    {
      "cell_type": "code",
      "metadata": {
        "id": "NHKjdcD76TDZ",
        "colab_type": "code",
        "colab": {}
      },
      "source": [
        ""
      ],
      "execution_count": 0,
      "outputs": []
    }
  ]
}