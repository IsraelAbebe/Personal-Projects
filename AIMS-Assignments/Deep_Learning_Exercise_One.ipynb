{
  "nbformat": 4,
  "nbformat_minor": 0,
  "metadata": {
    "colab": {
      "name": "Deep Learning Exercise One",
      "provenance": [],
      "collapsed_sections": [],
      "authorship_tag": "ABX9TyNKORE6wFRF3HPGo0tACE0D",
      "include_colab_link": true
    },
    "kernelspec": {
      "name": "python3",
      "display_name": "Python 3"
    },
    "accelerator": "GPU"
  },
  "cells": [
    {
      "cell_type": "markdown",
      "metadata": {
        "id": "view-in-github",
        "colab_type": "text"
      },
      "source": [
        "<a href=\"https://colab.research.google.com/github/IsraelAbebe/Personal-Projects-and-Exercises/blob/master/AIMS-Assignments/Deep_Learning_Exercise_One.ipynb\" target=\"_parent\"><img src=\"https://colab.research.google.com/assets/colab-badge.svg\" alt=\"Open In Colab\"/></a>"
      ]
    },
    {
      "cell_type": "code",
      "metadata": {
        "id": "Rz1D0Z2cidJ8",
        "colab_type": "code",
        "colab": {}
      },
      "source": [
        "import torch"
      ],
      "execution_count": 0,
      "outputs": []
    },
    {
      "cell_type": "markdown",
      "metadata": {
        "id": "s9o_vZFh3rRe",
        "colab_type": "text"
      },
      "source": [
        "# Question 1"
      ]
    },
    {
      "cell_type": "code",
      "metadata": {
        "id": "ZM6dFU8nigYd",
        "colab_type": "code",
        "outputId": "048a51fd-50d8-49b9-f696-688ca7e1f3e0",
        "colab": {
          "base_uri": "https://localhost:8080/",
          "height": 238
        }
      },
      "source": [
        "a = torch.full((13,13),1)\n",
        "a[:,[1,6,11]],a[[1,6,11],:] = 2,2\n",
        "a[2:4,2:4],a[8:10,2:4],a[2:4,8:10],a[8:10,8:10] = 3,3,3,3 \n",
        "a"
      ],
      "execution_count": 0,
      "outputs": [
        {
          "output_type": "execute_result",
          "data": {
            "text/plain": [
              "tensor([[1., 2., 1., 1., 1., 1., 2., 1., 1., 1., 1., 2., 1.],\n",
              "        [2., 2., 2., 2., 2., 2., 2., 2., 2., 2., 2., 2., 2.],\n",
              "        [1., 2., 3., 3., 1., 1., 2., 1., 3., 3., 1., 2., 1.],\n",
              "        [1., 2., 3., 3., 1., 1., 2., 1., 3., 3., 1., 2., 1.],\n",
              "        [1., 2., 1., 1., 1., 1., 2., 1., 1., 1., 1., 2., 1.],\n",
              "        [1., 2., 1., 1., 1., 1., 2., 1., 1., 1., 1., 2., 1.],\n",
              "        [2., 2., 2., 2., 2., 2., 2., 2., 2., 2., 2., 2., 2.],\n",
              "        [1., 2., 1., 1., 1., 1., 2., 1., 1., 1., 1., 2., 1.],\n",
              "        [1., 2., 3., 3., 1., 1., 2., 1., 3., 3., 1., 2., 1.],\n",
              "        [1., 2., 3., 3., 1., 1., 2., 1., 3., 3., 1., 2., 1.],\n",
              "        [1., 2., 1., 1., 1., 1., 2., 1., 1., 1., 1., 2., 1.],\n",
              "        [2., 2., 2., 2., 2., 2., 2., 2., 2., 2., 2., 2., 2.],\n",
              "        [1., 2., 1., 1., 1., 1., 2., 1., 1., 1., 1., 2., 1.]])"
            ]
          },
          "metadata": {
            "tags": []
          },
          "execution_count": 3
        }
      ]
    },
    {
      "cell_type": "markdown",
      "metadata": {
        "id": "apkzKnmJkGT_",
        "colab_type": "text"
      },
      "source": [
        "# Question 2"
      ]
    },
    {
      "cell_type": "code",
      "metadata": {
        "id": "kftFxFAjkFia",
        "colab_type": "code",
        "colab": {}
      },
      "source": [
        "import torch\n",
        "from time import perf_counter \n",
        "\n",
        "matrix1,matrix2 = torch.empty((500,500)).normal_(0.5,1),torch.randn((500,500)).normal_(0.5,1)"
      ],
      "execution_count": 0,
      "outputs": []
    },
    {
      "cell_type": "code",
      "metadata": {
        "id": "dFezhjnMiyS2",
        "colab_type": "code",
        "outputId": "51fa3202-8a92-459a-9cef-13715375ce30",
        "colab": {
          "base_uri": "https://localhost:8080/",
          "height": 34
        }
      },
      "source": [
        "# %%time\n",
        "t1_start = perf_counter()\n",
        "result = torch.mul(matrix1,matrix2)\n",
        "t1_stop = perf_counter() \n",
        "\n",
        "print(\"Elapsed time during the whole program in seconds:\", \n",
        "                                        t1_stop-t1_start) "
      ],
      "execution_count": 0,
      "outputs": [
        {
          "output_type": "stream",
          "text": [
            "Elapsed time during the whole program in seconds: 0.0008092359999949394\n"
          ],
          "name": "stdout"
        }
      ]
    },
    {
      "cell_type": "code",
      "metadata": {
        "id": "TzBULn2PMC-P",
        "colab_type": "code",
        "colab": {}
      },
      "source": [
        ""
      ],
      "execution_count": 0,
      "outputs": []
    }
  ]
}