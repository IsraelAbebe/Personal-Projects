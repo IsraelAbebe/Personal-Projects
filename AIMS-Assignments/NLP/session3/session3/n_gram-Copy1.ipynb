{
 "cells": [
  {
   "cell_type": "code",
   "execution_count": 140,
   "metadata": {},
   "outputs": [],
   "source": [
    "import io, sys, math, re\n",
    "from collections import defaultdict\n",
    "import numpy as np"
   ]
  },
  {
   "cell_type": "code",
   "execution_count": 141,
   "metadata": {},
   "outputs": [],
   "source": [
    "# dataloader\n",
    "\n",
    "def load_data(filename):\n",
    "    fin = io.open(filename, 'r', encoding='utf-8')\n",
    "    data = []\n",
    "    vocab = defaultdict(lambda:0)\n",
    "    for line in fin:\n",
    "        sentence = line.split()\n",
    "        data.append(sentence)\n",
    "        for word in sentence:\n",
    "            vocab[word] += 1\n",
    "    return data, vocab"
   ]
  },
  {
   "cell_type": "code",
   "execution_count": 142,
   "metadata": {},
   "outputs": [],
   "source": [
    "def remove_rare_words(data, vocab, mincount):\n",
    "    for sent in range(len(data)):\n",
    "        for word_index in range(len(data[sent])):\n",
    "            if vocab[data[sent][word_index]] < mincount:\n",
    "                data[sent][word_index] = '<unk>'\n",
    "    # replace words in data that are not in the vocab \n",
    "    # or have a count that is below mincount\n",
    "    return data"
   ]
  },
  {
   "cell_type": "code",
   "execution_count": 143,
   "metadata": {},
   "outputs": [
    {
     "name": "stdout",
     "output_type": "stream",
     "text": [
      "load training set\n",
      "load validation set\n"
     ]
    }
   ],
   "source": [
    "# LOAD DATA\n",
    "\n",
    "print(\"load training set\")\n",
    "train_data, vocab = load_data(\"train.txt\")\n",
    "train_data = remove_rare_words(train_data, vocab,5)\n",
    "# Same as bigram.py\n",
    "\n",
    "print(\"load validation set\")\n",
    "valid_data, _ = load_data(\"valid.txt\")\n",
    "\n",
    "valid_data = remove_rare_words(valid_data, vocab,5)\n",
    "# Same as bigram.py"
   ]
  },
  {
   "cell_type": "code",
   "execution_count": 144,
   "metadata": {},
   "outputs": [],
   "source": [
    "def build_ngram(data, n):\n",
    "    total_number_words = 0\n",
    "    counts = defaultdict(lambda: defaultdict(lambda: 0.0))\n",
    "    counts_n1 = defaultdict(lambda: 0.0)\n",
    "\n",
    "    for sentence in data:\n",
    "        #sentence = tuple(sentence)\n",
    "        for w in range(len(sentence)-1):\n",
    "            wt = sentence[w:w+n][-1]\n",
    "            new_n = n-1\n",
    "            counts_n1[wt] += 1.0\n",
    "            while new_n >= 0:\n",
    "                if new_n == 0:\n",
    "                    wt_n = '<empty>'\n",
    "                else:\n",
    "                    wt_n = ' '.join(sentence[w:w+new_n])\n",
    "                    \n",
    "                counts[wt_n][wt] += 1.0\n",
    "                counts_n1[wt_n] += 1.0\n",
    "                total_number_words += 1.0\n",
    "                new_n -= 1\n",
    "            \n",
    "        # dict can be indexed by tuples\n",
    "        # store in the same dict all the ngrams\n",
    "        # by using the context as a key and the word as a value\n",
    "\n",
    "    prob  = defaultdict(lambda: defaultdict(lambda: 0.0))\n",
    "    for wt_n in counts:\n",
    "        for wt in counts[wt_n]:\n",
    "            prob[wt_n][wt] = counts[wt_n][wt] / sum(counts[wt_n].values())\n",
    "    # Build the probabilities from the counts\n",
    "    # Be careful with how you normalize!\n",
    "\n",
    "    return prob"
   ]
  },
  {
   "cell_type": "code",
   "execution_count": 145,
   "metadata": {},
   "outputs": [
    {
     "name": "stdout",
     "output_type": "stream",
     "text": [
      "build ngram model with n =  4\n"
     ]
    }
   ],
   "source": [
    "# RUN TO BUILD NGRAM MODEL\n",
    "n = 4\n",
    "print(\"build ngram model with n = \", n)\n",
    "model = build_ngram(train_data, n)\n",
    "# model"
   ]
  },
  {
   "cell_type": "code",
   "execution_count": 146,
   "metadata": {},
   "outputs": [],
   "source": [
    "def get_prob(model, context, w):\n",
    "    prob = 0.0\n",
    "    # START FROM N-GRAM AND DO N-N GRAM UNTIL YOU REACH BIGRAM\n",
    "    # IF YOU GET NON ZERO PROBAVLITY IN THE MIDDLE RETURN IT \n",
    "    new_context = context.split(' ')\n",
    "    for i in range(len(new_context)):\n",
    "        prob = model[' '.join(new_context[i:])][w]\n",
    "        if prob != 0:\n",
    "            return prob\n",
    "        \n",
    "        \n",
    "    # if you dont have the bigram of the word just calculate the unigram and return   \n",
    "    if model['<empty>'][w]*0.4 !=0:\n",
    "        return model['<empty>'][w]*0.4\n",
    "    else:\n",
    "        return (0+1)/(len(model['<empty>'].keys())+sum(model['<empty>'].values()))\n",
    "    \n",
    "    # code a recursive function over \n",
    "    # smaller and smaller context\n",
    "    # to compute the backoff model\n",
    "    # Bonus: You can also code an interpolation model this way\n",
    "\n",
    "def perplexity(model, data, n):\n",
    "    perp = 0.0\n",
    "    all_words = 0.0\n",
    "    for sentence in data:\n",
    "        for w in range(len(sentence)-1):\n",
    "            w,context = sentence[w:w+n][-1],' '.join(sentence[w:w+n][:-1])\n",
    "            prob = get_prob(model, context, w)\n",
    "            perp += np.log(prob)\n",
    "            all_words += 1.0\n",
    "            \n",
    "    # Same as bigram.py\n",
    "    return np.exp(-perp/all_words)"
   ]
  },
  {
   "cell_type": "code",
   "execution_count": 147,
   "metadata": {},
   "outputs": [
    {
     "name": "stdout",
     "output_type": "stream",
     "text": [
      "The perplexity is 30.31923451723627\n"
     ]
    }
   ],
   "source": [
    "# COMPUTE PERPLEXITY ON VALIDATION SET\n",
    "print(\"The perplexity is\", perplexity(model, valid_data, n))"
   ]
  },
  {
   "cell_type": "code",
   "execution_count": 148,
   "metadata": {},
   "outputs": [],
   "source": [
    "def get_proba_distrib(model, context):\n",
    "    if sum(model[context].values()) != 0:\n",
    "        return context\n",
    "    else:\n",
    "        context = ' '.join(context.split(' ')[:-1])\n",
    "        return get_proba_distrib(model,context)\n",
    "    # code a recursive function over context\n",
    "    # to find the longest available ngram \n",
    "\n",
    "def generate(model):\n",
    "    sentence = [\"<s>\"]\n",
    "    \n",
    "    MAX_LEN = 50\n",
    "    n = 0\n",
    "    while sentence[-1] != '</s>':\n",
    "        letter = get_proba_distrib(model,' '.join(sentence))\n",
    "        possible_words = list(model[letter].keys())\n",
    "        possible_prob = list(model[letter].values())\n",
    "\n",
    "        # # possible_prob\n",
    "        word = np.random.choice(possible_words, 1,p=possible_prob)[0]\n",
    "        sentence.append(word)\n",
    "        n+=1\n",
    "        if n > MAX_LEN:\n",
    "            break\n",
    "    # generate a sentence. A sentence starts with a <s> and ends with a </s>\n",
    "    # Possiblly a use function is:\n",
    "    #   np.random.choice(x, 1, p = y)\n",
    "    # where x is a list of things to sample from\n",
    "    # and y is a list of probability (of the same length as x)\n",
    "    return sentence"
   ]
  },
  {
   "cell_type": "code",
   "execution_count": 149,
   "metadata": {},
   "outputs": [
    {
     "name": "stdout",
     "output_type": "stream",
     "text": [
      "Generated sentence:  ['<s>', 'over', 'thank', 'something', '<unk>', 'the', 'to', 'all', 'all', 'what', 'the', 'them', '<unk>', 'a', 'were', 'for', 'their', 'of', \"they're\", 'he', 'his', 'the', 'had', 'the', 'is', 'layla', 'even', 'a', 'these', 'was', 'the', 'the', 'in', 'mary', 'what', 'is', 'not', 'to', 'breakfast', 'that', '<unk>', 'had', 'states', 'the', 'something', 'off', 'mary', 'me', 'some', '<unk>', 'the', 'letter']\n"
     ]
    }
   ],
   "source": [
    "# GENERATE A SENTENCE FROM THE MODEL\n",
    "print(\"Generated sentence: \",generate(model))"
   ]
  },
  {
   "cell_type": "code",
   "execution_count": null,
   "metadata": {},
   "outputs": [],
   "source": []
  }
 ],
 "metadata": {
  "kernelspec": {
   "display_name": "Python 3",
   "language": "python",
   "name": "python3"
  },
  "language_info": {
   "codemirror_mode": {
    "name": "ipython",
    "version": 3
   },
   "file_extension": ".py",
   "mimetype": "text/x-python",
   "name": "python",
   "nbconvert_exporter": "python",
   "pygments_lexer": "ipython3",
   "version": "3.7.4"
  }
 },
 "nbformat": 4,
 "nbformat_minor": 2
}
