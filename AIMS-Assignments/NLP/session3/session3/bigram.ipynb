{
 "cells": [
  {
   "cell_type": "code",
   "execution_count": 1,
   "metadata": {},
   "outputs": [],
   "source": [
    "import io, sys, math, re\n",
    "from collections import defaultdict\n",
    "import numpy as np\n",
    "import operator"
   ]
  },
  {
   "cell_type": "code",
   "execution_count": 2,
   "metadata": {},
   "outputs": [],
   "source": [
    "# dataloader\n",
    "\n",
    "def load_data(filename):\n",
    "    fin = io.open(filename, 'r', encoding='utf-8')\n",
    "    data = []\n",
    "    vocab = defaultdict(lambda:0)\n",
    "    for line in fin:\n",
    "        sentence = line.split()\n",
    "        data.append(sentence)\n",
    "        for word in sentence:\n",
    "            vocab[word] += 1\n",
    "    return data, vocab"
   ]
  },
  {
   "cell_type": "code",
   "execution_count": 3,
   "metadata": {},
   "outputs": [],
   "source": [
    "def remove_rare_words(data, vocab, mincount):\n",
    "    for sent in range(len(data)):\n",
    "        for word_index in range(len(data[sent])):\n",
    "            if vocab[data[sent][word_index]] < mincount:\n",
    "                data[sent][word_index] = '<unk>'\n",
    "        \n",
    "    # replace words in data that are not in the vocab \n",
    "    # or have a count that is below mincount\n",
    "    return data"
   ]
  },
  {
   "cell_type": "code",
   "execution_count": 4,
   "metadata": {},
   "outputs": [
    {
     "name": "stdout",
     "output_type": "stream",
     "text": [
      "load validation set\n"
     ]
    }
   ],
   "source": [
    "# LOAD DATA\n",
    "\n",
    "train_data, vocab = load_data(\"train2.txt\")\n",
    "train_data = remove_rare_words(train_data, vocab,50)\n",
    "## FILL CODE \n",
    "# If you have a Out of Vocabulary error (OOV) \n",
    "# call the function \"remove_rare_words\" to replace \n",
    "# rare words with <unk> in the dataset\n",
    "\n",
    "print(\"load validation set\")\n",
    "valid_data, _ = load_data(\"valid2.txt\")\n",
    "valid_data = remove_rare_words(valid_data, vocab,50)\n",
    "## FILL CODE \n",
    "# If you have a Out of Vocabulary error (OOV) \n",
    "# call the function \"remove_rare_words\" to replace \n",
    "# OOV with <unk> in the dataset"
   ]
  },
  {
   "cell_type": "code",
   "execution_count": 5,
   "metadata": {},
   "outputs": [],
   "source": [
    "# Function to build a bigram model\n",
    "\n",
    "def build_bigram(data):\n",
    "    unigram_counts = defaultdict(lambda:0)\n",
    "    bigram_counts  = defaultdict(lambda:defaultdict(lambda: 0.0))\n",
    "    total_number_words = 0\n",
    "\n",
    "    \n",
    "    for sentence in data:\n",
    "        for word in sentence:\n",
    "            unigram_counts[word] += 1.0\n",
    "            \n",
    "    for s in range(len(data)):\n",
    "        for w in range(len(data[s])-1):\n",
    "            w1,w2 = data[s][w:w+2][0],data[s][w:w+2][1]\n",
    "            bigram_counts[w1][w2] += 1.0\n",
    "            \n",
    "            \n",
    "            \n",
    "    # Store the unigram and bigram counts as well as the total \n",
    "    # number of words in the dataset\n",
    "\n",
    "    unigram_prob = defaultdict(lambda:0)\n",
    "    bigram_prob = defaultdict(lambda: defaultdict(lambda: 0.0))\n",
    "\n",
    "    # Build unigram and bigram probabilities from counts\n",
    "    for word in unigram_counts:\n",
    "        unigram_prob[word] = unigram_counts[word]/sum(list(unigram_counts.values()))\n",
    "\n",
    "    for w1 in bigram_counts:\n",
    "        for w2 in bigram_counts[w1]:\n",
    "            bigram_prob[w1][w2] = bigram_counts[w1][w2] / unigram_counts[w1]\n",
    "        \n",
    "    return {'bigram': bigram_prob, 'unigram': unigram_prob}"
   ]
  },
  {
   "cell_type": "code",
   "execution_count": 6,
   "metadata": {},
   "outputs": [
    {
     "name": "stdout",
     "output_type": "stream",
     "text": [
      "build bigram model\n"
     ]
    }
   ],
   "source": [
    "# RUN TO BUILD BIGRAM MODEL\n",
    "print(\"build bigram model\")\n",
    "model = build_bigram(train_data)"
   ]
  },
  {
   "cell_type": "code",
   "execution_count": 7,
   "metadata": {},
   "outputs": [],
   "source": [
    "def get_prob(model, w1, w2):\n",
    "    assert model[\"unigram\"][w2] != 0, \"Out of Vocabulary word!\"\n",
    "    \n",
    "    if model[\"bigram\"][w1][w2] != 0:\n",
    "        return model[\"bigram\"][w1][w2]\n",
    "    else:\n",
    "        return model[\"unigram\"][w1]*0.4\n",
    "    \n",
    "    # Should return the probability of the bigram (w1w2) if it exists\n",
    "    # Else it return the probility of unigram (w2) multiply by 0.4\n",
    "\n",
    "def perplexity(model, data):\n",
    "    perp = 0.0\n",
    "    all_words = 0.0\n",
    "    \n",
    "    for s in range(len(data)):\n",
    "        for w in range(len(data[s])-1):\n",
    "            w1,w2 = data[s][w],data[s][w+1]\n",
    "            perp += np.log(get_prob(model, w1, w2))\n",
    "            all_words += 1.0\n",
    "            \n",
    "    # follow the formula in the slides\n",
    "    # call the function get_prob to get P(w2 | w1)\n",
    "    return -perp/all_words"
   ]
  },
  {
   "cell_type": "code",
   "execution_count": 8,
   "metadata": {},
   "outputs": [
    {
     "name": "stdout",
     "output_type": "stream",
     "text": [
      "The perplexity is 3.684686070234634\n"
     ]
    }
   ],
   "source": [
    "# COMPUTE PERPLEXITY ON VALIDATION SET\n",
    "\n",
    "print(\"The perplexity is\", perplexity(model, valid_data))"
   ]
  },
  {
   "cell_type": "code",
   "execution_count": 19,
   "metadata": {},
   "outputs": [],
   "source": [
    "    \n",
    "\n",
    "def generate(model):\n",
    "    sentence = [\"<s>\"]\n",
    "    \n",
    "    # CHOOSE MOST PROBABLE WORDS WITH STARTING SENTENCE\n",
    "    while sentence[-1] != '</s>':\n",
    "        possible_words = list(model['bigram'][sentence[-1]].keys())\n",
    "        possible_prob = list(model['bigram'][sentence[-1]].values())\n",
    "\n",
    "        # # possible_prob\n",
    "        word = np.random.choice(possible_words, 1,p=possible_prob)[0]\n",
    "        sentence.append(word)\n",
    "        \n",
    "    # generate a sentence. A sentence starts with a <s> and ends with a </s>\n",
    "    # Possiblly a use function is:\n",
    "    #   np.random.choice(x, 1, p = y)\n",
    "    # where x is a list of things to sample from\n",
    "    # and y is a list of probability (of the same length as x)\n",
    "    return sentence"
   ]
  },
  {
   "cell_type": "code",
   "execution_count": 20,
   "metadata": {},
   "outputs": [
    {
     "name": "stdout",
     "output_type": "stream",
     "text": [
      "Generated sentence:  ['<s>', 'tom', 'says', 'that', 'you', 'are', 'looking', 'for', 'me', 'during', 'the', 'more', 'if', 'afraid', 'of', '<unk>', ',', 'a', 'computer', 'can', 'do', 'you', 'like', 'a', '<unk>', '.', '</s>']\n"
     ]
    }
   ],
   "source": [
    "# GENERATE A SENTENCE FROM THE MODEL\n",
    "\n",
    "print(\"Generated sentence: \",generate(model))"
   ]
  },
  {
   "cell_type": "code",
   "execution_count": null,
   "metadata": {},
   "outputs": [],
   "source": []
  }
 ],
 "metadata": {
  "kernelspec": {
   "display_name": "Python 3",
   "language": "python",
   "name": "python3"
  },
  "language_info": {
   "codemirror_mode": {
    "name": "ipython",
    "version": 3
   },
   "file_extension": ".py",
   "mimetype": "text/x-python",
   "name": "python",
   "nbconvert_exporter": "python",
   "pygments_lexer": "ipython3",
   "version": "3.7.4"
  }
 },
 "nbformat": 4,
 "nbformat_minor": 2
}
