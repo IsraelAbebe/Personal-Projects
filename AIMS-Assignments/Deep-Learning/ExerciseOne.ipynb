{
  "nbformat": 4,
  "nbformat_minor": 0,
  "metadata": {
    "colab": {
      "name": "Israel Azime Class Exercises",
      "provenance": [],
      "collapsed_sections": [],
      "authorship_tag": "ABX9TyOlLLr2ibddfxTcnJUOfWDF",
      "include_colab_link": true
    },
    "kernelspec": {
      "name": "python3",
      "display_name": "Python 3"
    },
    "accelerator": "GPU"
  },
  "cells": [
    {
      "cell_type": "markdown",
      "metadata": {
        "id": "view-in-github",
        "colab_type": "text"
      },
      "source": [
        "<a href=\"https://colab.research.google.com/github/IsraelAbebe/Personal-Projects-and-Exercises/blob/master/AIMS-Assignments/Deep-Learning/ExerciseOne.ipynb\" target=\"_parent\"><img src=\"https://colab.research.google.com/assets/colab-badge.svg\" alt=\"Open In Colab\"/></a>"
      ]
    },
    {
      "cell_type": "code",
      "metadata": {
        "id": "Rz1D0Z2cidJ8",
        "colab_type": "code",
        "colab": {}
      },
      "source": [
        "import torch"
      ],
      "execution_count": 0,
      "outputs": []
    },
    {
      "cell_type": "markdown",
      "metadata": {
        "id": "s9o_vZFh3rRe",
        "colab_type": "text"
      },
      "source": [
        "# Question 1"
      ]
    },
    {
      "cell_type": "code",
      "metadata": {
        "id": "ZM6dFU8nigYd",
        "colab_type": "code",
        "outputId": "048a51fd-50d8-49b9-f696-688ca7e1f3e0",
        "colab": {
          "base_uri": "https://localhost:8080/",
          "height": 238
        }
      },
      "source": [
        "a = torch.full((13,13),1)\n",
        "a[:,[1,6,11]],a[[1,6,11],:] = 2,2\n",
        "a[2:4,2:4],a[8:10,2:4],a[2:4,8:10],a[8:10,8:10] = 3,3,3,3 \n",
        "a"
      ],
      "execution_count": 0,
      "outputs": [
        {
          "output_type": "execute_result",
          "data": {
            "text/plain": [
              "tensor([[1., 2., 1., 1., 1., 1., 2., 1., 1., 1., 1., 2., 1.],\n",
              "        [2., 2., 2., 2., 2., 2., 2., 2., 2., 2., 2., 2., 2.],\n",
              "        [1., 2., 3., 3., 1., 1., 2., 1., 3., 3., 1., 2., 1.],\n",
              "        [1., 2., 3., 3., 1., 1., 2., 1., 3., 3., 1., 2., 1.],\n",
              "        [1., 2., 1., 1., 1., 1., 2., 1., 1., 1., 1., 2., 1.],\n",
              "        [1., 2., 1., 1., 1., 1., 2., 1., 1., 1., 1., 2., 1.],\n",
              "        [2., 2., 2., 2., 2., 2., 2., 2., 2., 2., 2., 2., 2.],\n",
              "        [1., 2., 1., 1., 1., 1., 2., 1., 1., 1., 1., 2., 1.],\n",
              "        [1., 2., 3., 3., 1., 1., 2., 1., 3., 3., 1., 2., 1.],\n",
              "        [1., 2., 3., 3., 1., 1., 2., 1., 3., 3., 1., 2., 1.],\n",
              "        [1., 2., 1., 1., 1., 1., 2., 1., 1., 1., 1., 2., 1.],\n",
              "        [2., 2., 2., 2., 2., 2., 2., 2., 2., 2., 2., 2., 2.],\n",
              "        [1., 2., 1., 1., 1., 1., 2., 1., 1., 1., 1., 2., 1.]])"
            ]
          },
          "metadata": {
            "tags": []
          },
          "execution_count": 3
        }
      ]
    },
    {
      "cell_type": "markdown",
      "metadata": {
        "id": "apkzKnmJkGT_",
        "colab_type": "text"
      },
      "source": [
        "# Question 2"
      ]
    },
    {
      "cell_type": "code",
      "metadata": {
        "id": "kftFxFAjkFia",
        "colab_type": "code",
        "colab": {}
      },
      "source": [
        "import torch\n",
        "from time import perf_counter \n",
        "\n",
        "matrix1,matrix2 = torch.empty((500,500)).normal_(0.5,1),torch.randn((500,500)).normal_(0.5,1)"
      ],
      "execution_count": 0,
      "outputs": []
    },
    {
      "cell_type": "code",
      "metadata": {
        "id": "dFezhjnMiyS2",
        "colab_type": "code",
        "outputId": "51fa3202-8a92-459a-9cef-13715375ce30",
        "colab": {
          "base_uri": "https://localhost:8080/",
          "height": 34
        }
      },
      "source": [
        "# %%time\n",
        "t1_start = perf_counter()\n",
        "result = torch.mul(matrix1,matrix2)\n",
        "t1_stop = perf_counter() \n",
        "\n",
        "print(\"Elapsed time during the whole program in seconds:\", \n",
        "                                        t1_stop-t1_start) "
      ],
      "execution_count": 0,
      "outputs": [
        {
          "output_type": "stream",
          "text": [
            "Elapsed time during the whole program in seconds: 0.0008092359999949394\n"
          ],
          "name": "stdout"
        }
      ]
    },
    {
      "cell_type": "markdown",
      "metadata": {
        "id": "V4DDaNGWq2qe",
        "colab_type": "text"
      },
      "source": [
        "# Question 3"
      ]
    },
    {
      "cell_type": "code",
      "metadata": {
        "id": "zefoU6evpNSc",
        "colab_type": "code",
        "colab": {}
      },
      "source": [
        "def mul_row2(input_tensor):\n",
        "    for i in range(input_tensor.size(0)):\n",
        "        for j in range(input_tensor.size(1)):\n",
        "            input_tensor[i,j] =  torch.mul(i+1,input_tensor[i,j])\n",
        "\n",
        "    return input_tensor\n",
        "\n",
        "def mul_row(input_tensor):\n",
        "    for i in range(input_tensor.size(0)):\n",
        "            input_tensor[i] =  torch.mul(i+1,input_tensor[i])\n",
        "    return input_tensor\n",
        "\n",
        "def mul_row_fast(input_tensor):\n",
        "    n = input_tensor.size(0)\n",
        "    input_tensor = torch.mul(torch.arange(1,n+1,1).view(n,-1),input_tensor)\n",
        "    return input_tensor"
      ],
      "execution_count": 0,
      "outputs": []
    },
    {
      "cell_type": "code",
      "metadata": {
        "id": "tTIQeLJetS_o",
        "colab_type": "code",
        "outputId": "65df7019-de49-4c76-a4c2-8621dac96b19",
        "colab": {
          "base_uri": "https://localhost:8080/",
          "height": 153
        }
      },
      "source": [
        "m = torch.full((4,8),2.0)\n",
        "print(m)\n",
        "mul_row(m)\n"
      ],
      "execution_count": 0,
      "outputs": [
        {
          "output_type": "stream",
          "text": [
            "tensor([[2., 2., 2., 2., 2., 2., 2., 2.],\n",
            "        [2., 2., 2., 2., 2., 2., 2., 2.],\n",
            "        [2., 2., 2., 2., 2., 2., 2., 2.],\n",
            "        [2., 2., 2., 2., 2., 2., 2., 2.]])\n"
          ],
          "name": "stdout"
        },
        {
          "output_type": "execute_result",
          "data": {
            "text/plain": [
              "tensor([[2., 2., 2., 2., 2., 2., 2., 2.],\n",
              "        [4., 4., 4., 4., 4., 4., 4., 4.],\n",
              "        [6., 6., 6., 6., 6., 6., 6., 6.],\n",
              "        [8., 8., 8., 8., 8., 8., 8., 8.]])"
            ]
          },
          "metadata": {
            "tags": []
          },
          "execution_count": 9
        }
      ]
    },
    {
      "cell_type": "code",
      "metadata": {
        "id": "ykVUPafyxyDU",
        "colab_type": "code",
        "outputId": "40592d42-ef3f-4a39-a94f-bba1f061e94a",
        "colab": {
          "base_uri": "https://localhost:8080/",
          "height": 153
        }
      },
      "source": [
        "\n",
        "m = torch.full((4,8),2.0)\n",
        "print(m)\n",
        "mul_row_fast(m)"
      ],
      "execution_count": 0,
      "outputs": [
        {
          "output_type": "stream",
          "text": [
            "tensor([[2., 2., 2., 2., 2., 2., 2., 2.],\n",
            "        [2., 2., 2., 2., 2., 2., 2., 2.],\n",
            "        [2., 2., 2., 2., 2., 2., 2., 2.],\n",
            "        [2., 2., 2., 2., 2., 2., 2., 2.]])\n"
          ],
          "name": "stdout"
        },
        {
          "output_type": "execute_result",
          "data": {
            "text/plain": [
              "tensor([[2., 2., 2., 2., 2., 2., 2., 2.],\n",
              "        [4., 4., 4., 4., 4., 4., 4., 4.],\n",
              "        [6., 6., 6., 6., 6., 6., 6., 6.],\n",
              "        [8., 8., 8., 8., 8., 8., 8., 8.]])"
            ]
          },
          "metadata": {
            "tags": []
          },
          "execution_count": 10
        }
      ]
    },
    {
      "cell_type": "code",
      "metadata": {
        "id": "zf5dz9fXwhnM",
        "colab_type": "code",
        "outputId": "53a6fee4-3df3-4e09-e0b5-ff2fc9da1358",
        "colab": {
          "base_uri": "https://localhost:8080/",
          "height": 34
        }
      },
      "source": [
        "matrix1= torch.empty((1000,400)).normal_(0.5,1)\n",
        "t1_start = perf_counter()\n",
        "result = mul_row(matrix1)\n",
        "t1_stop = perf_counter() \n",
        "\n",
        "print(\"Elapsed time during the whole program in seconds:\", \n",
        "                                        t1_stop-t1_start) "
      ],
      "execution_count": 0,
      "outputs": [
        {
          "output_type": "stream",
          "text": [
            "Elapsed time during the whole program in seconds: 0.01606515000000286\n"
          ],
          "name": "stdout"
        }
      ]
    },
    {
      "cell_type": "code",
      "metadata": {
        "id": "h7ZmpoFJtlMa",
        "colab_type": "code",
        "outputId": "5181728f-296a-4352-f23e-4e4fe5517f30",
        "colab": {
          "base_uri": "https://localhost:8080/",
          "height": 34
        }
      },
      "source": [
        "matrix1= torch.empty((1000,400)).normal_(0.5,1)\n",
        "t1_start = perf_counter()\n",
        "result = mul_row_fast(matrix1)\n",
        "t1_stop = perf_counter() \n",
        "\n",
        "print(\"Elapsed time during the whole program in seconds:\", \n",
        "                                        t1_stop-t1_start) "
      ],
      "execution_count": 0,
      "outputs": [
        {
          "output_type": "stream",
          "text": [
            "Elapsed time during the whole program in seconds: 0.0012700510000058784\n"
          ],
          "name": "stdout"
        }
      ]
    },
    {
      "cell_type": "markdown",
      "metadata": {
        "colab_type": "text",
        "id": "TrsJsAzS5TMG"
      },
      "source": [
        "# Multilayer MNIST"
      ]
    },
    {
      "cell_type": "markdown",
      "metadata": {
        "colab_type": "text",
        "id": "iz-f-II35R-5"
      },
      "source": [
        "# Data\n",
        "\n",
        "Getting dataset from google drive\n",
        "\n",
        "If you are testing on your machine skip this step and import.\n",
        "\n",
        "```\n",
        "    from dlc_practical_prologue import *\n",
        "```"
      ]
    },
    {
      "cell_type": "code",
      "metadata": {
        "colab_type": "code",
        "outputId": "aac469fe-bcb4-4579-e3b6-48862d4ffc59",
        "id": "YBKJlEDp5PwX",
        "colab": {
          "base_uri": "https://localhost:8080/",
          "height": 122
        }
      },
      "source": [
        "import torch\n",
        "from google.colab import drive\n",
        "drive.mount('/content/drive')"
      ],
      "execution_count": 0,
      "outputs": [
        {
          "output_type": "stream",
          "text": [
            "Go to this URL in a browser: https://accounts.google.com/o/oauth2/auth?client_id=947318989803-6bn6qk8qdgf4n4g3pfee6491hc0brc4i.apps.googleusercontent.com&redirect_uri=urn%3aietf%3awg%3aoauth%3a2.0%3aoob&response_type=code&scope=email%20https%3a%2f%2fwww.googleapis.com%2fauth%2fdocs.test%20https%3a%2f%2fwww.googleapis.com%2fauth%2fdrive%20https%3a%2f%2fwww.googleapis.com%2fauth%2fdrive.photos.readonly%20https%3a%2f%2fwww.googleapis.com%2fauth%2fpeopleapi.readonly\n",
            "\n",
            "Enter your authorization code:\n",
            "··········\n",
            "Mounted at /content/drive\n"
          ],
          "name": "stdout"
        }
      ]
    },
    {
      "cell_type": "code",
      "metadata": {
        "colab_type": "code",
        "outputId": "8f8b97f7-c06e-4528-c4af-ad84fe77b1bd",
        "id": "n0pq7mnI5PWy",
        "colab": {
          "base_uri": "https://localhost:8080/",
          "height": 578
        }
      },
      "source": [
        "!unzip drive/My\\ Drive/data/data.zip \n",
        "# ls"
      ],
      "execution_count": 0,
      "outputs": [
        {
          "output_type": "stream",
          "text": [
            "Archive:  drive/My Drive/data/data.zip\n",
            "   creating: data/\n",
            "   creating: data/mnist/\n",
            "   creating: data/mnist/raw/\n",
            "  inflating: data/mnist/raw/train-images-idx3-ubyte  \n",
            "  inflating: data/mnist/raw/train-labels-idx1-ubyte  \n",
            "  inflating: data/mnist/raw/t10k-images-idx3-ubyte  \n",
            "  inflating: data/mnist/raw/t10k-labels-idx1-ubyte  \n",
            "   creating: data/mnist/processed/\n",
            "  inflating: data/mnist/processed/training.pt  \n",
            "  inflating: data/mnist/processed/test.pt  \n",
            "   creating: data/mnist/MNIST/\n",
            "   creating: data/mnist/MNIST/raw/\n",
            "  inflating: data/mnist/MNIST/raw/train-images-idx3-ubyte  \n",
            "  inflating: data/mnist/MNIST/raw/train-labels-idx1-ubyte  \n",
            "  inflating: data/mnist/MNIST/raw/t10k-images-idx3-ubyte  \n",
            "  inflating: data/mnist/MNIST/raw/t10k-labels-idx1-ubyte  \n",
            "   creating: data/mnist/MNIST/processed/\n",
            "  inflating: data/mnist/MNIST/processed/training.pt  \n",
            "  inflating: data/mnist/MNIST/processed/test.pt  \n",
            "   creating: data/cifar10/\n",
            "  inflating: data/cifar10/cifar-10-python.tar.gz  \n",
            "   creating: data/cifar10/cifar-10-batches-py/\n",
            "  inflating: data/cifar10/cifar-10-batches-py/data_batch_4  \n",
            "  inflating: data/cifar10/cifar-10-batches-py/readme.html  \n",
            "  inflating: data/cifar10/cifar-10-batches-py/test_batch  \n",
            "  inflating: data/cifar10/cifar-10-batches-py/data_batch_3  \n",
            "  inflating: data/cifar10/cifar-10-batches-py/batches.meta  \n",
            "  inflating: data/cifar10/cifar-10-batches-py/data_batch_2  \n",
            "  inflating: data/cifar10/cifar-10-batches-py/data_batch_5  \n",
            "  inflating: data/cifar10/cifar-10-batches-py/data_batch_1  \n",
            "  inflating: dlc_practical_4_embryo.py  \n",
            "  inflating: dlc_practical_prologue.py  \n"
          ],
          "name": "stdout"
        }
      ]
    },
    {
      "cell_type": "code",
      "metadata": {
        "colab_type": "code",
        "id": "AivL0YQR5PCx",
        "colab": {}
      },
      "source": [
        "import torch\n",
        "from dlc_practical_prologue import *"
      ],
      "execution_count": 0,
      "outputs": []
    },
    {
      "cell_type": "code",
      "metadata": {
        "colab_type": "code",
        "outputId": "058efcf0-fa73-4328-f12e-90eed95c5a81",
        "id": "JVnc2GLN5NRG",
        "colab": {
          "base_uri": "https://localhost:8080/",
          "height": 204
        }
      },
      "source": [
        "data = load_data(one_hot_labels=True,normalize=True)"
      ],
      "execution_count": 0,
      "outputs": [
        {
          "output_type": "stream",
          "text": [
            "* Using MNIST\n"
          ],
          "name": "stdout"
        },
        {
          "output_type": "stream",
          "text": [
            "/usr/local/lib/python3.6/dist-packages/torchvision/datasets/mnist.py:53: UserWarning: train_data has been renamed data\n",
            "  warnings.warn(\"train_data has been renamed data\")\n",
            "/usr/local/lib/python3.6/dist-packages/torchvision/datasets/mnist.py:43: UserWarning: train_labels has been renamed targets\n",
            "  warnings.warn(\"train_labels has been renamed targets\")\n",
            "/usr/local/lib/python3.6/dist-packages/torchvision/datasets/mnist.py:58: UserWarning: test_data has been renamed data\n",
            "  warnings.warn(\"test_data has been renamed data\")\n",
            "/usr/local/lib/python3.6/dist-packages/torchvision/datasets/mnist.py:48: UserWarning: test_labels has been renamed targets\n",
            "  warnings.warn(\"test_labels has been renamed targets\")\n"
          ],
          "name": "stderr"
        },
        {
          "output_type": "stream",
          "text": [
            "** Reduce the data-set (use --full for the full thing)\n",
            "** Use 1000 train and 1000 test samples\n"
          ],
          "name": "stdout"
        }
      ]
    },
    {
      "cell_type": "markdown",
      "metadata": {
        "id": "4wwe-7XuE_sj",
        "colab_type": "text"
      },
      "source": [
        "\\begin{aligned}\n",
        "&\\tanh (x)\n",
        "\\\\~\\\\\n",
        "&\\frac{d \\tanh (x)}{d x}\n",
        "\\\\~\\\\\n",
        "&\\|t-v\\|^{2}\n",
        "\\\\~\\\\\n",
        "&2 *(t-v)\n",
        "\\end{aligned}\n"
      ]
    },
    {
      "cell_type": "code",
      "metadata": {
        "id": "NdD2s_Bocqyi",
        "colab_type": "code",
        "colab": {}
      },
      "source": [
        "def sigma(inputs):\n",
        "    return torch.tanh(inputs)\n",
        "\n",
        "def dsigma(inputs):\n",
        "    return 1-torch.pow(sigma(inputs),2)\n",
        "\n",
        "def loss(v,t):\n",
        "    return torch.pow((v-t),2).sum()\n",
        "\n",
        "def dloss(v,t):\n",
        "    return 2*(v-t)"
      ],
      "execution_count": 0,
      "outputs": []
    },
    {
      "cell_type": "code",
      "metadata": {
        "id": "5r7xwTMsG3GB",
        "colab_type": "code",
        "colab": {}
      },
      "source": [
        "def get_params(train_images,hidden_dim=50,out_dim=10,std = 1e-6):\n",
        "    w1 = torch.empty((hidden_dim,train_images.size(1))).normal_(0,std)\n",
        "    b1 = torch.empty((hidden_dim,1)).normal_(0,std)\n",
        "\n",
        "    w2 = torch.empty((out_dim,hidden_dim)).normal_(0,std)\n",
        "    b2 = torch.empty((out_dim,1)).normal_(0,std)\n",
        "\n",
        "    dl_w1 = torch.empty_like(w1)\n",
        "    dl_b1 = torch.empty_like(b1)\n",
        "\n",
        "    dl_w2 = torch.empty_like(w2)\n",
        "    dl_b2 = torch.empty_like(b2)\n",
        "\n",
        "    return w1,b1,w2,b2,dl_w1,dl_b1,dl_w2,dl_b2"
      ],
      "execution_count": 0,
      "outputs": []
    },
    {
      "cell_type": "markdown",
      "metadata": {
        "id": "HDtNZEnwF2Wc",
        "colab_type": "text"
      },
      "source": [
        "\\begin{aligned}\n",
        "&\\begin{array}{l}\n",
        "{x} \\\\\n",
        "{|}\n",
        "\\end{array}\\\\\n",
        "&\\begin{array}{l}\n",
        "{w_{1}+x+b_{1}=\\left(s_{1}\\right)} \\\\\n",
        " \\\\\n",
        "{|}\n",
        "\\\\\n",
        "{\\sigma\\left(s_{1}\\right)=x_{1}} \\\\\n",
        " \\\\\n",
        "{|}\n",
        "\\\\\n",
        "{w_{2}+x_{1}+b_{2}=\\left(s_{2}\\right)} \\\\\n",
        " \\\\\n",
        "{|}\n",
        "\\\\\n",
        "{\\sigma\\left(s_{2}\\right)=x_{2}} \\\\\n",
        " \\\\\n",
        "{|}\n",
        "\\\\\n",
        "{L}\n",
        "{}\n",
        "\\end{array}\n",
        "\\end{aligned}\n"
      ]
    },
    {
      "cell_type": "code",
      "metadata": {
        "id": "yE-PrdDD8SgI",
        "colab_type": "code",
        "colab": {}
      },
      "source": [
        "def forward_pass(w1,b1,w2,b2,x):\n",
        "    s1 = torch.add(torch.mm(w1,x),b1)\n",
        "    x1 = sigma(s1)\n",
        "\n",
        "    s2 = torch.add(torch.mm(w2,x1),b2)\n",
        "    x2 = sigma(s2)\n",
        "\n",
        "    return x,s1,x1,s2,x2\n",
        "\n",
        "\n",
        "def backward_pass(w1,b1,w2,b2,t,x,s1,x1,s2,x2,dl_dw1,dl_db1,dl_dw2,dl_db2):\n",
        "    dl_dx2 = dloss(x2,t)\n",
        "    dl_ds2 = dl_dx2*dsigma(s2)\n",
        "\n",
        "    dl_dw2.add_(torch.mm(dl_ds2,x1.view(1,-1)))\n",
        "    dl_db2.add_(dl_ds2)\n",
        "\n",
        "    dl_dx1 = torch.mm(w2.T,dl_ds2)\n",
        "    dl_ds1 = dl_dx1*dsigma(s1)\n",
        "\n",
        "    dl_dw1.add_(torch.mm(dl_ds1,x.view(1,-1)))\n",
        "    dl_db1.add_(dl_ds1)"
      ],
      "execution_count": 0,
      "outputs": []
    },
    {
      "cell_type": "code",
      "metadata": {
        "id": "CHHSHha8B92I",
        "colab_type": "code",
        "outputId": "8f813603-7d72-44de-d90b-ba1a47984a9d",
        "colab": {
          "base_uri": "https://localhost:8080/",
          "height": 187
        }
      },
      "source": [
        "train_images,train_labels,test_images,test_labels = data\n",
        "\n",
        "w1,b1,w2,b2,dl_dw1,dl_db1,dl_dw2,dl_db2 = get_params(train_images,hidden_dim=50,out_dim=10)\n",
        "\n",
        "train_labels,test_labels = train_labels * 0.9,test_labels * 0.9\n",
        "train_images,train_labels = train_images * 0.9,train_labels * 0.9\n",
        "\n",
        "train_size = len(train_images)\n",
        "test_size = len(test_images)\n",
        "\n",
        "lr = 1e-1 / train_size\n",
        "epoch = 1000\n",
        "\n",
        "for i in range(epoch):\n",
        "    dl_dw1.zero_()\n",
        "    dl_db1.zero_()\n",
        "    dl_dw2.zero_()\n",
        "    dl_db2.zero_()\n",
        "\n",
        "    correct_count = 0\n",
        "    test_correct_count = 0\n",
        "    running_loss = 0\n",
        "\n",
        "    for image,labels in zip(train_images,train_labels):\n",
        "        x,s1,x1,s2,x2 = forward_pass(w1,b1,w2,b2,image.view(-1,1))\n",
        "        running_loss += loss(x2,labels.view(-1,1))\n",
        "        backward_pass(w1,b1,w2,b2,labels.view(-1,1),image.view(-1,1),s1,x1,s2,x2,dl_dw1,dl_db1,dl_dw2,dl_db2)\n",
        "\n",
        "    w1 = w1 -  lr * dl_dw1\n",
        "    b1 = b1 -  lr * dl_db1\n",
        "    w2 = w2 -  lr * dl_dw2\n",
        "    b2 = b2 -  lr * dl_db2\n",
        "\n",
        "    for img,lbl in zip(train_images,train_labels):\n",
        "        _,_,_,_,x2 = forward_pass(w1,b1,w2,b2,img.view(-1,1))\n",
        "        if x2.max(0)[1].item()==lbl.max(0)[1].item():\n",
        "            correct_count +=1\n",
        "\n",
        "    for t_img,t_lbl in zip(test_images,test_labels):\n",
        "        _,_,_,_,t_x2 = forward_pass(w1,b1,w2,b2,t_img.view(-1,1))\n",
        "        if t_x2.max(0)[1].item()==t_lbl.view(-1,1).max(0)[1].item():\n",
        "            test_correct_count +=1\n",
        "    \n",
        "    if i%100 == 0:\n",
        "        print('Epoch: {}, Loss: {:.02f} Train Accuracy(Error Rate): {:.02f}({:.02f}) , Test Accuracy(Error Rate): {:.02f}({:.02f})'.format(i,running_loss,\\\n",
        "            correct_count/train_size,1-(correct_count/train_size),test_correct_count/test_size,1-(test_correct_count/test_size)))"
      ],
      "execution_count": 0,
      "outputs": [
        {
          "output_type": "stream",
          "text": [
            "Epoch: 0, Loss: 656.10 Train Accuracy(Error Rate): 0.12(0.88) , Test Accuracy(Error Rate): 0.10(0.90)\n",
            "Epoch: 100, Loss: 299.96 Train Accuracy(Error Rate): 0.80(0.20) , Test Accuracy(Error Rate): 0.73(0.27)\n",
            "Epoch: 200, Loss: 190.84 Train Accuracy(Error Rate): 0.92(0.08) , Test Accuracy(Error Rate): 0.82(0.18)\n",
            "Epoch: 300, Loss: 137.80 Train Accuracy(Error Rate): 0.95(0.05) , Test Accuracy(Error Rate): 0.82(0.18)\n",
            "Epoch: 400, Loss: 104.82 Train Accuracy(Error Rate): 0.97(0.03) , Test Accuracy(Error Rate): 0.84(0.16)\n",
            "Epoch: 500, Loss: 83.16 Train Accuracy(Error Rate): 0.98(0.02) , Test Accuracy(Error Rate): 0.84(0.16)\n",
            "Epoch: 600, Loss: 83.80 Train Accuracy(Error Rate): 0.99(0.01) , Test Accuracy(Error Rate): 0.83(0.17)\n",
            "Epoch: 700, Loss: 65.43 Train Accuracy(Error Rate): 0.99(0.01) , Test Accuracy(Error Rate): 0.83(0.17)\n",
            "Epoch: 800, Loss: 50.46 Train Accuracy(Error Rate): 1.00(0.00) , Test Accuracy(Error Rate): 0.83(0.17)\n",
            "Epoch: 900, Loss: 51.76 Train Accuracy(Error Rate): 1.00(0.00) , Test Accuracy(Error Rate): 0.82(0.18)\n"
          ],
          "name": "stdout"
        }
      ]
    },
    {
      "cell_type": "code",
      "metadata": {
        "id": "TzBULn2PMC-P",
        "colab_type": "code",
        "colab": {}
      },
      "source": [
        ""
      ],
      "execution_count": 0,
      "outputs": []
    }
  ]
}