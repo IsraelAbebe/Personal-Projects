{
  "nbformat": 4,
  "nbformat_minor": 0,
  "metadata": {
    "colab": {
      "name": "Exercise 3 - Jan 24",
      "provenance": [],
      "authorship_tag": "ABX9TyOGWr456QFjdteqTZLQrKaF",
      "include_colab_link": true
    },
    "kernelspec": {
      "name": "python3",
      "display_name": "Python 3"
    }
  },
  "cells": [
    {
      "cell_type": "markdown",
      "metadata": {
        "id": "view-in-github",
        "colab_type": "text"
      },
      "source": [
        "<a href=\"https://colab.research.google.com/github/IsraelAbebe/Personal-Projects-and-Exercises/blob/master/AIMS-Assignments/Deep-Learning/Exercise_3_Jan_24.ipynb\" target=\"_parent\"><img src=\"https://colab.research.google.com/assets/colab-badge.svg\" alt=\"Open In Colab\"/></a>"
      ]
    },
    {
      "cell_type": "code",
      "metadata": {
        "id": "QVJ-V5FRxp04",
        "colab_type": "code",
        "colab": {
          "base_uri": "https://localhost:8080/",
          "height": 122
        },
        "outputId": "8f4c0875-7c4a-4316-ad1e-228f5cf87e11"
      },
      "source": [
        "import torch\n",
        "from google.colab import drive\n",
        "drive.mount('/content/drive')"
      ],
      "execution_count": 1,
      "outputs": [
        {
          "output_type": "stream",
          "text": [
            "Go to this URL in a browser: https://accounts.google.com/o/oauth2/auth?client_id=947318989803-6bn6qk8qdgf4n4g3pfee6491hc0brc4i.apps.googleusercontent.com&redirect_uri=urn%3aietf%3awg%3aoauth%3a2.0%3aoob&response_type=code&scope=email%20https%3a%2f%2fwww.googleapis.com%2fauth%2fdocs.test%20https%3a%2f%2fwww.googleapis.com%2fauth%2fdrive%20https%3a%2f%2fwww.googleapis.com%2fauth%2fdrive.photos.readonly%20https%3a%2f%2fwww.googleapis.com%2fauth%2fpeopleapi.readonly\n",
            "\n",
            "Enter your authorization code:\n",
            "··········\n",
            "Mounted at /content/drive\n"
          ],
          "name": "stdout"
        }
      ]
    },
    {
      "cell_type": "code",
      "metadata": {
        "id": "cPjAbvYi8Odj",
        "colab_type": "code",
        "colab": {
          "base_uri": "https://localhost:8080/",
          "height": 578
        },
        "outputId": "f869d149-f927-4f2f-f1aa-be3bbe4ad182"
      },
      "source": [
        "!unzip drive/My\\ Drive/data/data.zip "
      ],
      "execution_count": 3,
      "outputs": [
        {
          "output_type": "stream",
          "text": [
            "Archive:  drive/My Drive/data/data.zip\n",
            "   creating: data/\n",
            "   creating: data/mnist/\n",
            "   creating: data/mnist/raw/\n",
            "  inflating: data/mnist/raw/train-images-idx3-ubyte  \n",
            "  inflating: data/mnist/raw/train-labels-idx1-ubyte  \n",
            "  inflating: data/mnist/raw/t10k-images-idx3-ubyte  \n",
            "  inflating: data/mnist/raw/t10k-labels-idx1-ubyte  \n",
            "   creating: data/mnist/processed/\n",
            "  inflating: data/mnist/processed/training.pt  \n",
            "  inflating: data/mnist/processed/test.pt  \n",
            "   creating: data/mnist/MNIST/\n",
            "   creating: data/mnist/MNIST/raw/\n",
            "  inflating: data/mnist/MNIST/raw/train-images-idx3-ubyte  \n",
            "  inflating: data/mnist/MNIST/raw/train-labels-idx1-ubyte  \n",
            "  inflating: data/mnist/MNIST/raw/t10k-images-idx3-ubyte  \n",
            "  inflating: data/mnist/MNIST/raw/t10k-labels-idx1-ubyte  \n",
            "   creating: data/mnist/MNIST/processed/\n",
            "  inflating: data/mnist/MNIST/processed/training.pt  \n",
            "  inflating: data/mnist/MNIST/processed/test.pt  \n",
            "   creating: data/cifar10/\n",
            "  inflating: data/cifar10/cifar-10-python.tar.gz  \n",
            "   creating: data/cifar10/cifar-10-batches-py/\n",
            "  inflating: data/cifar10/cifar-10-batches-py/data_batch_4  \n",
            "  inflating: data/cifar10/cifar-10-batches-py/readme.html  \n",
            "  inflating: data/cifar10/cifar-10-batches-py/test_batch  \n",
            "  inflating: data/cifar10/cifar-10-batches-py/data_batch_3  \n",
            "  inflating: data/cifar10/cifar-10-batches-py/batches.meta  \n",
            "  inflating: data/cifar10/cifar-10-batches-py/data_batch_2  \n",
            "  inflating: data/cifar10/cifar-10-batches-py/data_batch_5  \n",
            "  inflating: data/cifar10/cifar-10-batches-py/data_batch_1  \n",
            "  inflating: dlc_practical_4_embryo.py  \n",
            "  inflating: dlc_practical_prologue.py  \n"
          ],
          "name": "stdout"
        }
      ]
    },
    {
      "cell_type": "code",
      "metadata": {
        "id": "vUC1LOVu8hdH",
        "colab_type": "code",
        "colab": {
          "base_uri": "https://localhost:8080/",
          "height": 204
        },
        "outputId": "83518e7a-8163-41eb-a3e3-d96006142840"
      },
      "source": [
        "import torch\n",
        "from torch.autograd import Variable\n",
        "from torch import nn\n",
        "from torch.nn import functional as F\n",
        "\n",
        "import dlc_practical_prologue as prologue\n",
        "\n",
        "train_input, train_target, test_input, test_target = \\\n",
        "    prologue.load_data(one_hot_labels = True, normalize = True, flatten = False)"
      ],
      "execution_count": 7,
      "outputs": [
        {
          "output_type": "stream",
          "text": [
            "* Using MNIST\n",
            "** Reduce the data-set (use --full for the full thing)\n",
            "** Use 1000 train and 1000 test samples\n"
          ],
          "name": "stdout"
        },
        {
          "output_type": "stream",
          "text": [
            "/usr/local/lib/python3.6/dist-packages/torchvision/datasets/mnist.py:53: UserWarning: train_data has been renamed data\n",
            "  warnings.warn(\"train_data has been renamed data\")\n",
            "/usr/local/lib/python3.6/dist-packages/torchvision/datasets/mnist.py:43: UserWarning: train_labels has been renamed targets\n",
            "  warnings.warn(\"train_labels has been renamed targets\")\n",
            "/usr/local/lib/python3.6/dist-packages/torchvision/datasets/mnist.py:58: UserWarning: test_data has been renamed data\n",
            "  warnings.warn(\"test_data has been renamed data\")\n",
            "/usr/local/lib/python3.6/dist-packages/torchvision/datasets/mnist.py:48: UserWarning: test_labels has been renamed targets\n",
            "  warnings.warn(\"test_labels has been renamed targets\")\n"
          ],
          "name": "stderr"
        }
      ]
    },
    {
      "cell_type": "code",
      "metadata": {
        "id": "2Th0XoMs9STW",
        "colab_type": "code",
        "colab": {}
      },
      "source": [
        "class Net(nn.Module):\n",
        "    def __init__(self):\n",
        "        super(Net, self).__init__()\n",
        "        self.conv1 = nn.Conv2d(1, 32, kernel_size=5)\n",
        "        self.conv2 = nn.Conv2d(32, 64, kernel_size=5)\n",
        "        self.fc1 = nn.Linear(256, 200)\n",
        "        self.fc2 = nn.Linear(200, 10)\n",
        "\n",
        "    def forward(self, x):\n",
        "        x = F.relu(F.max_pool2d(self.conv1(x), kernel_size=3, stride=3))\n",
        "        x = F.relu(F.max_pool2d(self.conv2(x), kernel_size=2, stride=2))\n",
        "        x = F.relu(self.fc1(x.view(-1, 256)))\n",
        "        x = self.fc2(x)\n",
        "        return x\n",
        "\n"
      ],
      "execution_count": 0,
      "outputs": []
    },
    {
      "cell_type": "markdown",
      "metadata": {
        "id": "2WTUYgfzOZir",
        "colab_type": "text"
      },
      "source": [
        "# Train Model"
      ]
    },
    {
      "cell_type": "code",
      "metadata": {
        "id": "B79nsQWS9VzB",
        "colab_type": "code",
        "colab": {}
      },
      "source": [
        "def train(model,train_input,train_target,mini_batch_size,epoch=25,print_line=False):\n",
        "    criterion = nn.MSELoss()\n",
        "    eta = 1e-1\n",
        "    model.train()\n",
        "    for e in range(0, epoch):\n",
        "        sum_loss = 0\n",
        "        # We do this with mini-batches\n",
        "        for b in range(0, train_input.size(0), mini_batch_size):\n",
        "            output = model(train_input.narrow(0, b, mini_batch_size))\n",
        "            loss = criterion(output, train_target.narrow(0, b, mini_batch_size))\n",
        "            sum_loss = sum_loss + loss.item()\n",
        "            model.zero_grad()\n",
        "            loss.backward()\n",
        "            for p in model.parameters():\n",
        "                p.data.sub_(eta * p.grad.data)\n",
        "        if print_line:\n",
        "            print(e, sum_loss)"
      ],
      "execution_count": 0,
      "outputs": []
    },
    {
      "cell_type": "code",
      "metadata": {
        "id": "nunB0ITf97Ul",
        "colab_type": "code",
        "colab": {}
      },
      "source": [
        "model = Net()\n",
        "train_input, train_target = Variable(train_input), Variable(train_target)\n",
        "test_input, test_target = Variable(test_input), Variable(test_target)\n",
        "\n",
        "mini_batch_size = 100"
      ],
      "execution_count": 0,
      "outputs": []
    },
    {
      "cell_type": "markdown",
      "metadata": {
        "id": "doUtmOiMOcWF",
        "colab_type": "text"
      },
      "source": [
        "# Error Count"
      ]
    },
    {
      "cell_type": "code",
      "metadata": {
        "id": "xu0p55dR-a_T",
        "colab_type": "code",
        "colab": {}
      },
      "source": [
        "def compute_nb_errors(model,input,target,mini_batch_size):\n",
        "    model.eval()\n",
        "    output = model(input)\n",
        "    correct_count = torch.sum(output.max(1)[1]==target.max(1)[1])\n",
        "    return 1-(float(correct_count.item())/target.size(0))\n"
      ],
      "execution_count": 0,
      "outputs": []
    },
    {
      "cell_type": "markdown",
      "metadata": {
        "id": "Ul4kwNmzSFB9",
        "colab_type": "text"
      },
      "source": [
        ""
      ]
    },
    {
      "cell_type": "code",
      "metadata": {
        "id": "RQjpNvSOAItu",
        "colab_type": "code",
        "colab": {
          "base_uri": "https://localhost:8080/",
          "height": 187
        },
        "outputId": "a9b90aa6-2632-4470-ba2f-b1d9e24be6fa"
      },
      "source": [
        "for i in range(10):\n",
        "    model = Net()\n",
        "    train(model=model,train_input=train_input,train_target=train_target,mini_batch_size=100,epoch=25)\n",
        "    error = compute_nb_errors(model=model,input=test_input,target=test_target,mini_batch_size=100)\n",
        "    print('Training ',i,' ,Error:',error)"
      ],
      "execution_count": 115,
      "outputs": [
        {
          "output_type": "stream",
          "text": [
            "Training  0  ,Error: 0.18300000000000005\n",
            "Training  1  ,Error: 0.14900000000000002\n",
            "Training  2  ,Error: 0.16100000000000003\n",
            "Training  3  ,Error: 0.15400000000000003\n",
            "Training  4  ,Error: 0.14500000000000002\n",
            "Training  5  ,Error: 0.15200000000000002\n",
            "Training  6  ,Error: 0.15200000000000002\n",
            "Training  7  ,Error: 0.14400000000000002\n",
            "Training  8  ,Error: 0.14600000000000002\n",
            "Training  9  ,Error: 0.16100000000000003\n"
          ],
          "name": "stdout"
        }
      ]
    },
    {
      "cell_type": "markdown",
      "metadata": {
        "id": "6T6LozOxOgwp",
        "colab_type": "text"
      },
      "source": [
        "# Modefied CNN"
      ]
    },
    {
      "cell_type": "code",
      "metadata": {
        "id": "tmAjjCwLGPs0",
        "colab_type": "code",
        "colab": {}
      },
      "source": [
        "class Net_modefied(nn.Module):\n",
        "    def __init__(self,n_hidden):\n",
        "        super(Net_modefied, self).__init__()\n",
        "        self.conv1 = nn.Conv2d(1, 32, kernel_size=5)\n",
        "        self.conv2 = nn.Conv2d(32, 64, kernel_size=5)\n",
        "        self.fc1 = nn.Linear(256, n_hidden)\n",
        "        self.fc2 = nn.Linear(n_hidden, 10)\n",
        "\n",
        "    def forward(self, x):\n",
        "        x = F.relu(F.max_pool2d(self.conv1(x), kernel_size=3, stride=3))\n",
        "        x = F.relu(F.max_pool2d(self.conv2(x), kernel_size=2, stride=2))\n",
        "        x = F.relu(self.fc1(x.view(-1, 256)))\n",
        "        x = self.fc2(x)\n",
        "        return x"
      ],
      "execution_count": 0,
      "outputs": []
    },
    {
      "cell_type": "markdown",
      "metadata": {
        "id": "_GYtXcXCSLbq",
        "colab_type": "text"
      },
      "source": [
        "# Influence the number of hiddne Layers"
      ]
    },
    {
      "cell_type": "code",
      "metadata": {
        "id": "2Oci5MPOHPBF",
        "colab_type": "code",
        "colab": {
          "base_uri": "https://localhost:8080/",
          "height": 102
        },
        "outputId": "d6f831c1-f2e7-45fc-988b-36df70fb0f5a"
      },
      "source": [
        "hidden_unit = [10,50,200,500,1000]\n",
        "for i in range(len(hidden_unit)):\n",
        "    model = Net_modefied(n_hidden=hidden_unit[i])\n",
        "    train(model=model,train_input=train_input,train_target=train_target,mini_batch_size=100,epoch=25)\n",
        "    error = compute_nb_errors(model=model,input=test_input,target=test_target,mini_batch_size=100)\n",
        "    print('Hidden Units:',hidden_unit[i],'Training ',i,' ,Error:',error)"
      ],
      "execution_count": 117,
      "outputs": [
        {
          "output_type": "stream",
          "text": [
            "Hidden Units: 10 Training  0  ,Error: 0.30400000000000005\n",
            "Hidden Units: 50 Training  1  ,Error: 0.134\n",
            "Hidden Units: 200 Training  2  ,Error: 0.17500000000000004\n",
            "Hidden Units: 500 Training  3  ,Error: 0.135\n",
            "Hidden Units: 1000 Training  4  ,Error: 0.121\n"
          ],
          "name": "stdout"
        }
      ]
    },
    {
      "cell_type": "markdown",
      "metadata": {
        "id": "oVxo1TzPOkDW",
        "colab_type": "text"
      },
      "source": [
        "# Three Convolutional Layers"
      ]
    },
    {
      "cell_type": "code",
      "metadata": {
        "id": "yg99aGXZIrA6",
        "colab_type": "code",
        "colab": {}
      },
      "source": [
        "class Net_modefied2(nn.Module):\n",
        "    def __init__(self,n_hidden):\n",
        "        super(Net_modefied2, self).__init__()\n",
        "        self.conv1 = nn.Conv2d(1, 32, kernel_size=5)\n",
        "        self.conv2 = nn.Conv2d(32, 64, kernel_size=5)\n",
        "        self.conv3 = nn.Conv2d(64, 64, kernel_size=5)\n",
        "        self.fc1 = nn.Linear(2*2*64, n_hidden)\n",
        "        self.fc2 = nn.Linear(n_hidden, 10)\n",
        "\n",
        "    def forward(self, x):\n",
        "        x = F.relu(F.max_pool2d(self.conv1(x), kernel_size=2))\n",
        "        x = F.relu(self.conv2(x))\n",
        "        x = F.relu(F.max_pool2d(self.conv3(x), kernel_size=2))\n",
        "        x = F.relu(self.fc1(x.view(-1, 2*2*64)))\n",
        "        x = self.fc2(x)\n",
        "        return x"
      ],
      "execution_count": 0,
      "outputs": []
    },
    {
      "cell_type": "code",
      "metadata": {
        "id": "HIZeJ4cXIRnk",
        "colab_type": "code",
        "colab": {
          "base_uri": "https://localhost:8080/",
          "height": 34
        },
        "outputId": "902a6155-1bbf-4d2e-9469-6580f017c8d3"
      },
      "source": [
        "def get_shape(h,p=0,k=5,s=1):\n",
        "    return ((h+(2*p)-k)/s)+1\n",
        "\n",
        "get_shape(8)//2"
      ],
      "execution_count": 151,
      "outputs": [
        {
          "output_type": "execute_result",
          "data": {
            "text/plain": [
              "2.0"
            ]
          },
          "metadata": {
            "tags": []
          },
          "execution_count": 151
        }
      ]
    },
    {
      "cell_type": "code",
      "metadata": {
        "id": "6gU230AYJKYZ",
        "colab_type": "code",
        "colab": {
          "base_uri": "https://localhost:8080/",
          "height": 459
        },
        "outputId": "b07a91a8-984f-4ac1-9e71-af0ff8384938"
      },
      "source": [
        "model = Net_modefied2(n_hidden=200)\n",
        "train(model=model,train_input=train_input,train_target=train_target,mini_batch_size=100,epoch=25,print_line=True)\n",
        "error = compute_nb_errors(model=model,input=test_input,target=test_target,mini_batch_size=100)\n",
        "print('Error:',error)"
      ],
      "execution_count": 152,
      "outputs": [
        {
          "output_type": "stream",
          "text": [
            "0 0.965524435043335\n",
            "1 0.8611425310373306\n",
            "2 0.8158542960882187\n",
            "3 0.7699950486421585\n",
            "4 0.7204816564917564\n",
            "5 0.6710934266448021\n",
            "6 0.626787256449461\n",
            "7 0.5926543325185776\n",
            "8 0.5653242617845535\n",
            "9 0.5363439619541168\n",
            "10 0.5086380988359451\n",
            "11 0.4865279234945774\n",
            "12 0.474288672208786\n",
            "13 0.4537847004830837\n",
            "14 0.45115071535110474\n",
            "15 0.41334347054362297\n",
            "16 0.40101541578769684\n",
            "17 0.3879912942647934\n",
            "18 0.37704773992300034\n",
            "19 0.3691019006073475\n",
            "20 0.35120957531034946\n",
            "21 0.3512778840959072\n",
            "22 0.33306819200515747\n",
            "23 0.3166050259023905\n",
            "24 0.31706047989428043\n",
            "Error: 0.15800000000000003\n"
          ],
          "name": "stdout"
        }
      ]
    },
    {
      "cell_type": "code",
      "metadata": {
        "id": "zkxItX99LGpW",
        "colab_type": "code",
        "colab": {}
      },
      "source": [
        ""
      ],
      "execution_count": 0,
      "outputs": []
    }
  ]
}