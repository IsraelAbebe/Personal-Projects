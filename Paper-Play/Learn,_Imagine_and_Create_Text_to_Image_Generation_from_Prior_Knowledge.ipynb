{
  "nbformat": 4,
  "nbformat_minor": 0,
  "metadata": {
    "colab": {
      "name": "Learn, Imagine and Create: Text-to-Image Generation from Prior Knowledge",
      "provenance": [],
      "collapsed_sections": [],
      "include_colab_link": true
    },
    "kernelspec": {
      "name": "python3",
      "display_name": "Python 3"
    },
    "accelerator": "GPU"
  },
  "cells": [
    {
      "cell_type": "markdown",
      "metadata": {
        "id": "view-in-github",
        "colab_type": "text"
      },
      "source": [
        "<a href=\"https://colab.research.google.com/github/IsraelAbebe/Personal-Projects-and-Exercises/blob/master/Paper-Play/Learn%2C_Imagine_and_Create_Text_to_Image_Generation_from_Prior_Knowledge.ipynb\" target=\"_parent\"><img src=\"https://colab.research.google.com/assets/colab-badge.svg\" alt=\"Open In Colab\"/></a>"
      ]
    },
    {
      "cell_type": "markdown",
      "metadata": {
        "id": "O4oHhzEEuoB4",
        "colab_type": "text"
      },
      "source": [
        "[Learn, Imagine and Create: Text-to-Image\n",
        "Generation from Prior Knowledge](http://papers.nips.cc/paper/8375-learn-imagine-and-create-text-to-image-generation-from-prior-knowledge.pdf)"
      ]
    },
    {
      "cell_type": "code",
      "metadata": {
        "id": "jOMqCxi1ncys",
        "colab_type": "code",
        "colab": {}
      },
      "source": [
        "%tensorflow_version 2.x\n",
        "from absl import logging\n",
        "\n",
        "import tensorflow as tf\n",
        "import tensorflow_hub as hub\n",
        "import matplotlib.pyplot as plt\n",
        "import numpy as np\n",
        "import os\n",
        "import pandas as pd\n",
        "import re\n",
        "import seaborn as sns\n",
        "\n",
        "from textblob import TextBlob\n",
        "\n",
        "\n",
        "import pandas as pd\n",
        "import tensorflow as tf\n",
        "import tensorflow_hub as hub\n",
        "from tensorflow.keras.optimizers import Adam,RMSprop,Adagrad\n",
        "from tensorflow.keras.layers import Dense, Input, BatchNormalization, Dropout, Concatenate\n",
        "from tensorflow.keras.models import Model, Sequential\n",
        "from tensorflow.keras.callbacks import ModelCheckpoint\n",
        "from tensorflow.keras import layers\n",
        "import PIL.Image as img\n",
        "from PIL import Image\n"
      ],
      "execution_count": 0,
      "outputs": []
    },
    {
      "cell_type": "code",
      "metadata": {
        "id": "hLMijYeboRNZ",
        "colab_type": "code",
        "outputId": "e40eb21e-1fe2-46ea-ac2a-3e74e6461d25",
        "colab": {
          "base_uri": "https://localhost:8080/",
          "height": 51
        }
      },
      "source": [
        "%%time\n",
        "module_url = 'https://tfhub.dev/google/universal-sentence-encoder-large/5'\n",
        "embed = hub.KerasLayer(module_url, trainable=False, name='USE_embedding')\n",
        "# Reduce logging output.\n",
        "def get_sentese_embedding(messages):\n",
        "    return embed(messages)"
      ],
      "execution_count": 0,
      "outputs": [
        {
          "output_type": "stream",
          "text": [
            "CPU times: user 13.4 s, sys: 1.94 s, total: 15.4 s\n",
            "Wall time: 14.5 s\n"
          ],
          "name": "stdout"
        }
      ]
    },
    {
      "cell_type": "code",
      "metadata": {
        "id": "RokN6QOMo4kQ",
        "colab_type": "code",
        "outputId": "cf56fab8-0e80-4efc-9ebb-894d6528c61e",
        "colab": {
          "base_uri": "https://localhost:8080/",
          "height": 34
        }
      },
      "source": [
        "from google.colab import drive\n",
        "drive.mount('/content/gdrive/')"
      ],
      "execution_count": 0,
      "outputs": [
        {
          "output_type": "stream",
          "text": [
            "Drive already mounted at /content/gdrive/; to attempt to forcibly remount, call drive.mount(\"/content/gdrive/\", force_remount=True).\n"
          ],
          "name": "stdout"
        }
      ]
    },
    {
      "cell_type": "code",
      "metadata": {
        "id": "2isKvPbOpJu0",
        "colab_type": "code",
        "outputId": "7b0610be-4017-4966-9f85-bcf50429867a",
        "colab": {
          "base_uri": "https://localhost:8080/",
          "height": 68
        }
      },
      "source": [
        "ls 'gdrive/My Drive/dataset/'"
      ],
      "execution_count": 0,
      "outputs": [
        {
          "output_type": "stream",
          "text": [
            "\u001b[0m\u001b[01;34mCACO\u001b[0m/         GOOG.csv               \u001b[01;34msentiment\u001b[0m/      \u001b[01;34mToxic\u001b[0m/\n",
            "dog.jpg       model.h5               submission.csv  train.csv\n",
            "\u001b[01;34mdrugLib_raw\u001b[0m/  sample_submission.csv  test.csv\n"
          ],
          "name": "stdout"
        }
      ]
    },
    {
      "cell_type": "code",
      "metadata": {
        "id": "Y1PX7dDdpyIV",
        "colab_type": "code",
        "colab": {}
      },
      "source": [
        "dog_image = img.open('gdrive/My Drive/dataset/dog.jpg')"
      ],
      "execution_count": 0,
      "outputs": []
    },
    {
      "cell_type": "code",
      "metadata": {
        "id": "i_Bd8C18t88n",
        "colab_type": "code",
        "colab": {}
      },
      "source": [
        "import torch\n",
        "import torch.nn as nn\n",
        "import torchvision.models as models\n",
        "import torchvision.transforms as transforms\n",
        "from torch.autograd import Variable\n",
        "from PIL import Image\n",
        "import numpy as np\n",
        "\n",
        "import torch.nn.functional as F"
      ],
      "execution_count": 0,
      "outputs": []
    },
    {
      "cell_type": "code",
      "metadata": {
        "id": "79ukPk0J9ZFN",
        "colab_type": "code",
        "colab": {}
      },
      "source": [
        "model = models.resnet50(pretrained=True)"
      ],
      "execution_count": 0,
      "outputs": []
    },
    {
      "cell_type": "code",
      "metadata": {
        "id": "kdqh8qFr-93W",
        "colab_type": "code",
        "colab": {}
      },
      "source": [
        "# model"
      ],
      "execution_count": 0,
      "outputs": []
    },
    {
      "cell_type": "code",
      "metadata": {
        "id": "vEqlgQyd9dFN",
        "colab_type": "code",
        "colab": {}
      },
      "source": [
        "last_layer = nn.Linear(2048,512 ,bias=True)\n",
        "\n",
        "model.fc = last_layer"
      ],
      "execution_count": 0,
      "outputs": []
    },
    {
      "cell_type": "code",
      "metadata": {
        "id": "mO6E2t4LT6I2",
        "colab_type": "code",
        "colab": {}
      },
      "source": [
        "def get_matching_score(sentence,image):\n",
        "    sent_emb = get_sentese_embedding(sentence).numpy()\n",
        "\n",
        "    transform = transforms.Compose([transforms.Resize(224),\n",
        "                                             transforms.CenterCrop(224),\n",
        "                                             transforms.ToTensor(),\n",
        "                                             transforms.Normalize((0.485, 0.456, 0.406), (0.229, 0.224, 0.225))])\n",
        "    img = Variable(transform(image))\n",
        "    img = img.view(1, 3, 224, 224)\n",
        "    img1_feature = model(img).detach().numpy()\n",
        "\n",
        "    simmilarity_1 = tf.nn.softmax(np.dot(img1_feature.T,sent_emb))\n",
        "    simmilarity_1 = simmilarity_1.numpy()\n",
        "\n",
        "    visual_feature = np.dot(img1_feature,tf.nn.softmax(simmilarity_1))\n",
        "    result = np.log(np.sum(np.exp(a*spatial.distance.cosine(visual_feature,sent_emb))))**(1/a)\n",
        "\n",
        "    return result"
      ],
      "execution_count": 0,
      "outputs": []
    },
    {
      "cell_type": "code",
      "metadata": {
        "id": "mggP7IYsVf9u",
        "colab_type": "code",
        "outputId": "988ded19-3982-4b05-a244-d5863b0ac540",
        "colab": {
          "base_uri": "https://localhost:8080/",
          "height": 34
        }
      },
      "source": [
        "get_matching_score(['the library is filled with mathimatics books. '],dog_image)"
      ],
      "execution_count": 0,
      "outputs": [
        {
          "output_type": "execute_result",
          "data": {
            "text/plain": [
              "1.472069871421947e-10"
            ]
          },
          "metadata": {
            "tags": []
          },
          "execution_count": 184
        }
      ]
    },
    {
      "cell_type": "code",
      "metadata": {
        "id": "AtdlpuIiVrOi",
        "colab_type": "code",
        "outputId": "0e0d508a-6237-4ce1-8f25-22333d8c5235",
        "colab": {
          "base_uri": "https://localhost:8080/",
          "height": 34
        }
      },
      "source": [
        "get_matching_score(['this is a dog. it is furry and yellowish '],dog_image)"
      ],
      "execution_count": 0,
      "outputs": [
        {
          "output_type": "execute_result",
          "data": {
            "text/plain": [
              "1.4588564277286308e-10"
            ]
          },
          "metadata": {
            "tags": []
          },
          "execution_count": 185
        }
      ]
    },
    {
      "cell_type": "code",
      "metadata": {
        "id": "eMt8dMnkY88a",
        "colab_type": "code",
        "outputId": "816f4a2a-02c2-4c7b-b613-ae9daf8d715d",
        "colab": {
          "base_uri": "https://localhost:8080/",
          "height": 34
        }
      },
      "source": [
        "get_matching_score(['this is a dog. '],dog_image)\n"
      ],
      "execution_count": 0,
      "outputs": [
        {
          "output_type": "execute_result",
          "data": {
            "text/plain": [
              "9.907701131327733e-11"
            ]
          },
          "metadata": {
            "tags": []
          },
          "execution_count": 186
        }
      ]
    },
    {
      "cell_type": "code",
      "metadata": {
        "id": "nXzABU5sZLzX",
        "colab_type": "code",
        "outputId": "f9b7f21f-a0ad-4550-935f-aa9145105c6c",
        "colab": {
          "base_uri": "https://localhost:8080/",
          "height": 34
        }
      },
      "source": [
        "get_matching_score(['dog.'],dog_image)"
      ],
      "execution_count": 0,
      "outputs": [
        {
          "output_type": "execute_result",
          "data": {
            "text/plain": [
              "7.170906906119557e-11"
            ]
          },
          "metadata": {
            "tags": []
          },
          "execution_count": 187
        }
      ]
    },
    {
      "cell_type": "code",
      "metadata": {
        "id": "HMVwWGqbaFqi",
        "colab_type": "code",
        "colab": {}
      },
      "source": [
        ""
      ],
      "execution_count": 0,
      "outputs": []
    }
  ]
}